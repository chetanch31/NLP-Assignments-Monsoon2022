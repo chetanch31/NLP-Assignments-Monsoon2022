{
 "cells": [
  {
   "cell_type": "code",
   "execution_count": 10,
   "metadata": {},
   "outputs": [],
   "source": [
    "import csv\n",
    "\n",
    "with open(\"A1_dataset.csv\", encoding=\"utf8\", newline='') as file:\n",
    "    data = csv.reader(file)\n",
    "    next(data)\n",
    "    data_list = list(data)"
   ]
  },
  {
   "cell_type": "code",
   "execution_count": 17,
   "metadata": {},
   "outputs": [
    {
     "name": "stdout",
     "output_type": "stream",
     "text": [
      "2000\n",
      "2287\n"
     ]
    }
   ],
   "source": [
    "negative_sent = []\n",
    "positive_sent = []\n",
    "\n",
    "for line in data_list:\n",
    "    if line[0][0] == \"0\":\n",
    "        negative_sent.append(line)\n",
    "\n",
    "    else:\n",
    "        positive_sent.append(line)\n",
    "\n",
    "print(len(negative_sent))\n",
    "print(len(positive_sent))"
   ]
  }
 ],
 "metadata": {
  "kernelspec": {
   "display_name": "Python 3.10.1 ('env': venv)",
   "language": "python",
   "name": "python3"
  },
  "language_info": {
   "codemirror_mode": {
    "name": "ipython",
    "version": 3
   },
   "file_extension": ".py",
   "mimetype": "text/x-python",
   "name": "python",
   "nbconvert_exporter": "python",
   "pygments_lexer": "ipython3",
   "version": "3.10.1"
  },
  "orig_nbformat": 4,
  "vscode": {
   "interpreter": {
    "hash": "d67b38e366ca74dac447d11a031a36b4e680cd6b313aec980c02ee663b193322"
   }
  }
 },
 "nbformat": 4,
 "nbformat_minor": 2
}
