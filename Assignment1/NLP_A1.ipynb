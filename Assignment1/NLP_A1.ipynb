{
 "cells": [
  {
   "cell_type": "code",
   "execution_count": 30,
   "metadata": {},
   "outputs": [],
   "source": [
    "import csv\n",
    "import re\n",
    "\n",
    "with open(\"A1_dataset.csv\", encoding=\"utf8\", newline='') as file:\n",
    "    data = csv.reader(file)\n",
    "    next(data)\n",
    "    data_list = list(data)"
   ]
  },
  {
   "cell_type": "code",
   "execution_count": 31,
   "metadata": {},
   "outputs": [],
   "source": [
    "negative_sent = []\n",
    "positive_sent = []\n",
    "\n",
    "for line in data_list:\n",
    "    if line[0][0] == \"0\":\n",
    "        negative_sent.append(line)\n",
    "\n",
    "    else:\n",
    "        positive_sent.append(line)"
   ]
  },
  {
   "cell_type": "markdown",
   "metadata": {},
   "source": [
    "Regex used for tokenization = ((https?|www).+\\w+|[@]?\\w+|(\\.+)|[^\\w\\s])\n",
    "\n",
    "The above regex considers it as a token if one of the following coniditon is matched\n",
    "1. Starts with an http,www,https (handles urls)\n",
    "2. Is a word, can start with '@' (counts usernames as single tokens)\n",
    "3. Any character other than above specified"
   ]
  },
  {
   "cell_type": "code",
   "execution_count": 32,
   "metadata": {},
   "outputs": [
    {
     "name": "stdout",
     "output_type": "stream",
     "text": [
      "[('About', '', ''), ('to', '', ''), ('get', '', ''), ('threaded', '', ''), ('and', '', ''), ('scared', '', '')]\n",
      "[('@awaisnaseer', '', ''), ('I', '', ''), ('like', '', ''), ('Shezan', '', ''), ('Mangooo', '', ''), ('too', '', ''), ('!', '', ''), ('!', '', ''), ('!', '', ''), ('I', '', ''), ('had', '', ''), ('one', '', ''), ('yesterday', '', '')]\n",
      "[('worked', '', ''), ('on', '', ''), ('my', '', ''), ('car', '', ''), ('after', '', ''), ('work', '', ''), ('.', '', '.'), ('showering', '', ''), ('then', '', ''), ('going', '', ''), ('to', '', ''), ('bed', '', ''), ('.', '', '.'), ('sooooooooooo', '', ''), ('tired', '', ''), ('.', '', '.'), ('sparrow', '', ''), ('signing', '', ''), ('out', '', ''), ('&', '', ''), ('lt', '', ''), (';', '', ''), ('Cowboy', '', ''), ('Up', '', ''), ('&', '', ''), ('gt', '', ''), (';', '', '')]\n",
      "[('@Marama', '', ''), ('Actually', '', ''), ('we', '', ''), ('start', '', ''), ('this', '', ''), ('afternoon', '', ''), ('!', '', ''), ('I', '', ''), ('will', '', ''), ('try', '', ''), ('to', '', ''), ('have', '', ''), ('something', '', ''), ('by', '', ''), ('Wed', '', ''), ('.', '', '.'), ('It', '', ''), ('will', '', ''), ('be', '', ''), ('a', '', ''), ('slow', '', ''), ('process', '', ''), ('of', '', ''), ('collecting', '', ''), (',', '', ''), ('many', '', ''), ('on', '', ''), ('vac', '', ''), ('.', '', '.')]\n"
     ]
    }
   ],
   "source": [
    "reg_exp = \"((https?|www).+\\w+|[@]?\\w+|(\\.+)|[^\\w\\s])\"\n",
    "total_number_tokens = 0\n",
    "\n",
    "tokens = re.findall(reg_exp, data_list[0][2])\n",
    "print(tokens)\n",
    "tokens = re.findall(reg_exp, data_list[1][2])\n",
    "print(tokens)\n",
    "tokens = re.findall(reg_exp, data_list[2][2])\n",
    "print(tokens)\n",
    "tokens = re.findall(reg_exp, data_list[3][2])\n",
    "print(tokens)\n"
   ]
  },
  {
   "cell_type": "code",
   "execution_count": null,
   "metadata": {},
   "outputs": [],
   "source": [
    "# reg = \"r'\\b(?<!-)[aeiouAEIOU][-\\w']*(?!@)\\b'\"\n",
    "words_v_n = 0 #No of words starting with a vowel in negative class\n",
    "words_c_n = 0 #No of words starting with a consonant in negative class\n",
    "words_v_p = 0 #No of words starting with a vowel in positive class\n",
    "words_c_p = 0 #No of words starting with a consonant in positive class\n",
    "\n",
    "for i in range(len(negative_sent)): #No of words starting with a vowel in negative class\n",
    "    tokens = re.findall(r\"\\b(?<![-@])[aeiouAEIOU][-a-zA-Z']*(?!@)\\b\", negative_sent[i][2])\n",
    "    words_v_n += len(tokens)\n",
    "\n",
    "for i in range(len(positive_sent)): #No of words starting with a vowel in positive class\n",
    "    tokens = re.findall(r\"\\b(?<![-@])[aeiouAEIOU][-a-zA-Z']*(?!@)\\b\", positive_sent[i][2])\n",
    "    words_v_p += len(tokens)\n",
    "    \n",
    "for i in range(len(negative_sent)): #No of words starting with a consonant in negative class\n",
    "    tokens = re.findall(r\"\\b(?<![-@.'])[^-\\saeiouAEIOU@.//:'\\\\)\\d][-a-zA-Z']*(?!.com)\\b\", negative_sent[i][2])\n",
    "    words_c_n += len(tokens)\n",
    "    # print(tokens)\n",
    "\n",
    "for i in range(len(positive_sent)): #No of words starting with a consonant in positive class\n",
    "    tokens = re.findall(r\"\\b(?<![-@.'])[^-\\saeiouAEIOU@.:'\\\\//)d][-a-zA-Z']*(?!.com)\\b\", positive_sent[i][2])\n",
    "    words_c_p += len(tokens)\n",
    "    # print(tokens)"
   ]
  }
 ],
 "metadata": {
  "kernelspec": {
   "display_name": "Python 3.10.1 ('env': venv)",
   "language": "python",
   "name": "python3"
  },
  "language_info": {
   "codemirror_mode": {
    "name": "ipython",
    "version": 3
   },
   "file_extension": ".py",
   "mimetype": "text/x-python",
   "name": "python",
   "nbconvert_exporter": "python",
   "pygments_lexer": "ipython3",
   "version": "3.10.1"
  },
  "orig_nbformat": 4,
  "vscode": {
   "interpreter": {
    "hash": "d67b38e366ca74dac447d11a031a36b4e680cd6b313aec980c02ee663b193322"
   }
  }
 },
 "nbformat": 4,
 "nbformat_minor": 2
}
