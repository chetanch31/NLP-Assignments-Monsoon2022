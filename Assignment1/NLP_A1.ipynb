{
 "cells": [
  {
   "cell_type": "code",
   "execution_count": 76,
   "metadata": {},
   "outputs": [],
   "source": [
    "import csv\n",
    "import re\n",
    "\n",
    "with open(\"A1_dataset.csv\", encoding=\"utf8\", newline='') as file:\n",
    "    data = csv.reader(file)\n",
    "    next(data)\n",
    "    data_list = list(data)"
   ]
  },
  {
   "cell_type": "code",
   "execution_count": 77,
   "metadata": {},
   "outputs": [],
   "source": [
    "negative_sent = []\n",
    "positive_sent = []\n",
    "\n",
    "for line in data_list:\n",
    "    if line[0][0] == \"0\":\n",
    "        negative_sent.append(line)\n",
    "\n",
    "    else:\n",
    "        positive_sent.append(line)"
   ]
  },
  {
   "cell_type": "markdown",
   "metadata": {},
   "source": [
    "## QUESTION 1\n",
    "\n",
    "### PART A\n",
    "\n",
    "\n",
    "Regex used for tokenization = ((https?|www).+\\w+|[@]?\\w+|(\\.+)|[^\\w\\s])\n",
    "\n",
    "The above regex considers it as a token if one of the following coniditon is matched\n",
    "1. Starts with an http,www,https (handles urls)\n",
    "2. Is a word, can start with '@' (counts usernames as single tokens)\n",
    "3. Any character other than above specified"
   ]
  },
  {
   "cell_type": "code",
   "execution_count": 78,
   "metadata": {},
   "outputs": [
    {
     "name": "stdout",
     "output_type": "stream",
     "text": [
      "Average tokens in negative tweets = 16.588 tokens/tweet\n",
      "Average tokens in positive tweets = 16.06077831219939 tokens/tweet\n"
     ]
    }
   ],
   "source": [
    "reg_exp = r\"((https?|www).+\\w+\\.([\\w])+[^\\s]+)|[@]?\\w+|(\\.+)|[^\\w\\s]\"\n",
    "\n",
    "total_negative_tokens = 0\n",
    "total_positive_tokens = 0\n",
    "\n",
    "unique_negative_tokens = set()\n",
    "unique_positive_tokens = set()\n",
    "\n",
    "for tweet in negative_sent:\n",
    "    tokens = re.finditer(reg_exp, tweet[2], re.MULTILINE)\n",
    "    tokens_list = list(tokens)\n",
    "\n",
    "    for match in tokens_list:\n",
    "        unique_negative_tokens.add(match.group())\n",
    "\n",
    "    total_negative_tokens += len(tokens_list)\n",
    "\t\n",
    "\n",
    "for tweet in positive_sent:\n",
    "    tokens = re.finditer(reg_exp, tweet[2], re.MULTILINE)\n",
    "    tokens_list = list(tokens)\n",
    "\n",
    "    for match in tokens_list:\n",
    "        unique_positive_tokens.add(match.group())\n",
    "\n",
    "    total_positive_tokens += len(tokens_list)\n",
    "\n",
    "average_negative_tokens = total_negative_tokens/len(negative_sent)\n",
    "average_positive_tokens = total_positive_tokens/len(positive_sent)\n",
    "\n",
    "\n",
    "print(f\"Average tokens in negative tweets = {average_negative_tokens} tokens/tweet\")\n",
    "print(f\"Average tokens in positive tweets = {average_positive_tokens} tokens/tweet\")\n"
   ]
  },
  {
   "cell_type": "markdown",
   "metadata": {},
   "source": [
    "Regex for sentences = \"[^.!?\\s][^.!?\\n]*(https?|www.+\\w+|[@]?\\w+|\\.+|[^\\w\\s]*)\""
   ]
  },
  {
   "cell_type": "code",
   "execution_count": 79,
   "metadata": {},
   "outputs": [
    {
     "name": "stdout",
     "output_type": "stream",
     "text": [
      "Average sentences in negative tweets = 1.8145 sentences/tweet\n",
      "Average sentences in positive tweets = 1.889811980760822 sentences/tweet\n"
     ]
    }
   ],
   "source": [
    "reg_exp = r'[^.!?\\s][^.!?\\n]*(https?|www.+\\w+|[@]?\\w+|\\.+|[^\\w\\s]*)+'\n",
    "\n",
    "total_negative_sentences = 0\n",
    "total_positive_sentences = 0\n",
    "\n",
    "positive_sentences = []\n",
    "negative_sentences = []\n",
    "\n",
    "for tweet in negative_sent:\n",
    "    sentences = re.finditer(reg_exp, tweet[2])\n",
    "    sentences_list = list(sentences)\n",
    "    total_negative_sentences += len(sentences_list)\n",
    "    \n",
    "    for sent in sentences_list:\n",
    "        negative_sentences.append(sent.group())\n",
    "\n",
    "for tweet in positive_sent:\n",
    "    sentences = re.finditer(reg_exp, tweet[2])\n",
    "    sentences_list = list(sentences)\n",
    "    total_positive_sentences += len(sentences_list)\n",
    "    \n",
    "    for sent in sentences_list:\n",
    "        positive_sentences.append(sent.group())\n",
    "\n",
    "average_negative_sentences = total_negative_sentences/len(negative_sent)\n",
    "average_positive_sentences = total_positive_sentences/len(positive_sent)\n",
    "\n",
    "print(f\"Average sentences in negative tweets = {average_negative_sentences} sentences/tweet\")\n",
    "print(f\"Average sentences in positive tweets = {average_positive_sentences} sentences/tweet\")"
   ]
  },
  {
   "cell_type": "code",
   "execution_count": 80,
   "metadata": {},
   "outputs": [
    {
     "name": "stdout",
     "output_type": "stream",
     "text": [
      "No of words starting with a vowel in negative class =  6867\n",
      "No of words starting with a vowel in positive class =  7010\n",
      "No of words starting with a consonant in negative class =  19039\n",
      "No of words starting with a consonant in positive class =  20245\n"
     ]
    }
   ],
   "source": [
    "# reg = \"r'\\b(?<!-)[aeiouAEIOU][-\\w']*(?!@)\\b'\"\n",
    "words_v_n = 0 #No of words starting with a vowel in negative class\n",
    "words_c_n = 0 #No of words starting with a consonant in negative class\n",
    "words_v_p = 0 #No of words starting with a vowel in positive class\n",
    "words_c_p = 0 #No of words starting with a consonant in positive class\n",
    "\n",
    "for i in range(len(negative_sent)): #No of words starting with a vowel in negative class\n",
    "    tokens = re.findall(r\"\\b(?<![-@])[aeiouAEIOU][-a-zA-Z']*(?!@)\\b\", negative_sent[i][2])\n",
    "    words_v_n += len(tokens)\n",
    "\n",
    "for i in range(len(positive_sent)): #No of words starting with a vowel in positive class\n",
    "    tokens = re.findall(r\"\\b(?<![-@])[aeiouAEIOU][-a-zA-Z']*(?!@)\\b\", positive_sent[i][2])\n",
    "    words_v_p += len(tokens)\n",
    "    \n",
    "for i in range(len(negative_sent)): #No of words starting with a consonant in negative class\n",
    "    tokens = re.findall(r\"\\b(?<![-@.'])[^-\\saeiouAEIOU@.//:'\\\\)\\d][-a-zA-Z']*(?!.com)\\b\", negative_sent[i][2])\n",
    "    words_c_n += len(tokens)\n",
    "    # print(tokens)\n",
    "\n",
    "for i in range(len(positive_sent)): #No of words starting with a consonant in positive class\n",
    "    tokens = re.findall(r\"\\b(?<![-@.'])[^-\\saeiouAEIOU@.:'\\\\//)d][-a-zA-Z']*(?!.com)\\b\", positive_sent[i][2])\n",
    "    words_c_p += len(tokens)\n",
    "    # print(tokens)\n",
    "\n",
    "print(\"No of words starting with a vowel in negative class = \" , words_v_n)\n",
    "print(\"No of words starting with a vowel in positive class = \", words_v_p)\n",
    "\n",
    "print(\"No of words starting with a consonant in negative class = \", words_c_n)\n",
    "print(\"No of words starting with a consonant in positive class = \", words_c_p)\n",
    "\n"
   ]
  },
  {
   "cell_type": "markdown",
   "metadata": {},
   "source": [
    "## Lower casing all the text"
   ]
  },
  {
   "cell_type": "code",
   "execution_count": 81,
   "metadata": {},
   "outputs": [
    {
     "name": "stdout",
     "output_type": "stream",
     "text": [
      "Negatives\n",
      "Unique tokens before lowercase =  6448\n",
      "Unique tokens after lowercase =  5655\n",
      "Positives\n",
      "Unique tokens before lowercase =  7900\n",
      "Unique tokens after lowercase =  6875\n"
     ]
    }
   ],
   "source": [
    "def lower_text(result):\n",
    "    return result.group(0).lower()\n",
    "\n",
    "negative_pre = []\n",
    "positive_pre = []\n",
    "\n",
    "for tweet in negative_sent:\n",
    "    new_text = re.sub(\"[A-Z]\", lower_text, tweet[2])\n",
    "    negative_pre.append([tweet[0],tweet[1], new_text])\n",
    "\n",
    "for tweet in positive_sent:\n",
    "    new_text = re.sub(\"[A-Z]\", lower_text, tweet[2])\n",
    "    positive_pre.append([tweet[0],tweet[1], new_text])\n",
    "\n",
    "\n",
    "\n",
    "reg_exp = r\"((https?|www).+\\w+\\.([\\w])+[^\\s]+)|[@]?\\w+|(\\.+)|[^\\w\\s]\"\n",
    "\n",
    "unique_negative_tokens_after_lowercase = set()\n",
    "unique_positive_tokens_after_lowercase = set()\n",
    "\n",
    "for i in range(len(negative_pre)):\n",
    "    tokens = re.finditer(reg_exp, negative_pre[i][2], re.MULTILINE)\n",
    "    tokens_list = list(tokens)\n",
    "\n",
    "    for match in tokens_list:\n",
    "        unique_negative_tokens_after_lowercase.add(match.group())\n",
    "\n",
    "for i in range(len(positive_pre)):\n",
    "    tokens = re.finditer(reg_exp, positive_pre[i][2], re.MULTILINE)\n",
    "    tokens_list = list(tokens)\n",
    "\n",
    "    for match in tokens_list:\n",
    "        unique_positive_tokens_after_lowercase.add(match.group())\n",
    "\n",
    "print(\"Negatives\")\n",
    "print(\"Unique tokens before lowercase = \", len(unique_negative_tokens))\n",
    "print(\"Unique tokens after lowercase = \", len(unique_negative_tokens_after_lowercase))\n",
    "\n",
    "print(\"Positives\")\n",
    "print(\"Unique tokens before lowercase = \", len(unique_positive_tokens))\n",
    "print(\"Unique tokens after lowercase = \", len(unique_positive_tokens_after_lowercase))\n"
   ]
  },
  {
   "cell_type": "markdown",
   "metadata": {},
   "source": [
    "## Counting and listing all usernames"
   ]
  },
  {
   "cell_type": "code",
   "execution_count": 82,
   "metadata": {},
   "outputs": [
    {
     "name": "stdout",
     "output_type": "stream",
     "text": [
      "Total usernames in negative:  803\n",
      "Total usernames in positive:  1305\n"
     ]
    }
   ],
   "source": [
    "reg_exp = \"[@]\\w+\"\n",
    "\n",
    "total_usernames_in_negative = 0\n",
    "total_usernames_in_positive = 0\n",
    "\n",
    "usernames_in_negative = []\n",
    "usernames_in_positive = []\n",
    "\n",
    "for tweet in negative_sent:\n",
    "    usernames = re.findall(reg_exp, tweet[2])\n",
    "    \n",
    "    if len(usernames) != 0:\n",
    "\n",
    "        total_usernames_in_negative += len(usernames)\n",
    "\n",
    "        for user in usernames:\n",
    "            usernames_in_negative.append(user)\n",
    "\n",
    "\n",
    "for tweet in positive_sent:\n",
    "    usernames = re.findall(reg_exp, tweet[2])\n",
    "    \n",
    "    if len(usernames) != 0:\n",
    "\n",
    "        total_usernames_in_positive += len(usernames)\n",
    "\n",
    "        for user in usernames:\n",
    "            usernames_in_positive.append(user)\n",
    "\n",
    "print(\"Total usernames in negative: \", total_usernames_in_negative)\n",
    "#print(usernames_in_negative)\n",
    "\n",
    "print(\"Total usernames in positive: \",total_usernames_in_positive)\n",
    "#print(usernames_in_positive)"
   ]
  },
  {
   "cell_type": "markdown",
   "metadata": {},
   "source": [
    "## Counting and listing all the URLs"
   ]
  },
  {
   "cell_type": "code",
   "execution_count": 83,
   "metadata": {},
   "outputs": [
    {
     "name": "stdout",
     "output_type": "stream",
     "text": [
      "Total URLs in negative:  60\n",
      "Total URLs in positive:  136\n"
     ]
    }
   ],
   "source": [
    "reg_exp = \"((https?|www[\\.][^\\.\\s])[^\\s]+)\"\n",
    "\n",
    "total_url_in_negative = 0\n",
    "total_url_in_positive = 0\n",
    "\n",
    "urls_in_negative = []\n",
    "urls_in_positive = []\n",
    "\n",
    "for tweet in negative_sent:\n",
    "    urls = re.findall(reg_exp, tweet[2])\n",
    "    \n",
    "    if len(urls) != 0:\n",
    "        total_url_in_negative += len(urls)\n",
    "        for i in urls:\n",
    "            urls_in_negative.append(i[0])\n",
    "\n",
    "for tweet in positive_sent:\n",
    "    urls = re.findall(reg_exp, tweet[2])\n",
    "    \n",
    "    if len(urls) != 0:\n",
    "        total_url_in_positive += len(urls)\n",
    "        for i in urls:\n",
    "            urls_in_positive.append(i[0])\n",
    "\n",
    "print(\"Total URLs in negative: \", total_url_in_negative)\n",
    "#print(urls_in_negative)\n",
    "\n",
    "print(\"Total URLs in positive: \",total_url_in_positive)\n",
    "#print(urls_in_positive)"
   ]
  },
  {
   "cell_type": "markdown",
   "metadata": {},
   "source": [
    "## Number of tweets for each day of week"
   ]
  },
  {
   "cell_type": "code",
   "execution_count": 84,
   "metadata": {},
   "outputs": [
    {
     "name": "stdout",
     "output_type": "stream",
     "text": [
      "For negative tweets\n",
      "{'Mon': 391, 'Tue': 154, 'Wed': 127, 'Thu': 171, 'Fri': 473, 'Sat': 119, 'Sun': 565}\n",
      "For positive tweets\n",
      "{'Mon': 481, 'Tue': 132, 'Wed': 172, 'Thu': 50, 'Fri': 391, 'Sat': 298, 'Sun': 763}\n"
     ]
    }
   ],
   "source": [
    "\n",
    "negative_sent_days = {'Mon':0, 'Tue':0, 'Wed':0, 'Thu':0, 'Fri':0, 'Sat':0, 'Sun':0}\n",
    "positive_sent_days = {'Mon':0, 'Tue':0, 'Wed':0, 'Thu':0, 'Fri':0, 'Sat':0, 'Sun':0}\n",
    "\n",
    "for tweet in negative_sent:\n",
    "\n",
    "    all_matches = re.finditer(\"^Mon|Tue|Wed|Thu|Fri|Sat|Sun\", tweet[1])\n",
    "    for match in list(all_matches):\n",
    "        negative_sent_days[match.group()] += 1\n",
    "\n",
    "for tweet in positive_sent:\n",
    "\n",
    "    all_matches = re.finditer(\"^Mon|Tue|Wed|Thu|Fri|Sat|Sun\", tweet[1])\n",
    "    for match in list(all_matches):\n",
    "        positive_sent_days[match.group()] += 1\n",
    "\n",
    "print(\"For negative tweets\")\n",
    "print(negative_sent_days)\n",
    "\n",
    "print(\"For positive tweets\")\n",
    "print(positive_sent_days)"
   ]
  },
  {
   "cell_type": "markdown",
   "metadata": {},
   "source": [
    "# Part B"
   ]
  },
  {
   "cell_type": "code",
   "execution_count": 85,
   "metadata": {},
   "outputs": [
    {
     "name": "stdout",
     "output_type": "stream",
     "text": [
      "Total number of occurances =  170689\n"
     ]
    }
   ],
   "source": [
    "word = input(\"Enter a word: \")\n",
    "class_label = input(\"Enter class label: \")\n",
    "\n",
    "reg_exp = f\"{word}\"\n",
    "\n",
    "sentences_with_words = []\n",
    "tweets_with_words = []\n",
    "number_of_occurances = 0\n",
    "\n",
    "if class_label == \"0\":\n",
    "    for tweet in negative_sent:\n",
    "        match = list(re.finditer(reg_exp, tweet[2]))\n",
    "        \n",
    "        if len(match) > 0:\n",
    "            for elem in match:\n",
    "                number_of_occurances += 1\n",
    "                tweets_with_words.append(tweet[2])\n",
    "\n",
    "    for tweet in negative_sentences:\n",
    "        match = list(re.finditer(reg_exp, tweet))\n",
    "        \n",
    "        if len(match) > 0:\n",
    "            for elem in match:\n",
    "                sentences_with_words.append(tweet)\n",
    "    \n",
    "else:\n",
    "    for tweet in positive_sent:\n",
    "        match = list(re.finditer(reg_exp, tweet[2]))\n",
    "        \n",
    "        if len(match) > 0:\n",
    "            for elem in match:\n",
    "                number_of_occurances += 1\n",
    "                tweets_with_words.append(tweet[2])\n",
    "    for tweet in positive_sentences:\n",
    "        match = list(re.finditer(reg_exp, tweet))\n",
    "        \n",
    "        if len(match) > 0:\n",
    "            for elem in match:\n",
    "                sentences_with_words.append(tweet)\n",
    "    \n",
    "#print(tweets_with_words)\n",
    "#print(sentences_with_words)\n",
    "print(\"Total number of occurances = \" ,number_of_occurances)\n"
   ]
  },
  {
   "cell_type": "code",
   "execution_count": 86,
   "metadata": {},
   "outputs": [
    {
     "name": "stdout",
     "output_type": "stream",
     "text": [
      "Total number of occurances in the beginning =  4322\n"
     ]
    }
   ],
   "source": [
    "reg_exp = f\"^{word}\"\n",
    "number_of_occurances_in_start = 0\n",
    "\n",
    "if class_label == \"0\":\n",
    "\n",
    "    for tweet in negative_sentences:\n",
    "        match = list(re.finditer(reg_exp, tweet))\n",
    "        \n",
    "        if len(match) > 0:\n",
    "            for elem in match:\n",
    "                number_of_occurances_in_start += 1\n",
    "\n",
    "else:\n",
    "\n",
    "    for tweet in positive_sentences:\n",
    "        match = list(re.finditer(reg_exp, tweet))\n",
    "        \n",
    "        if len(match) > 0:\n",
    "            for elem in match:\n",
    "                number_of_occurances_in_start += 1\n",
    "                \n",
    "print(\"Total number of occurances in the beginning = \" ,number_of_occurances_in_start)"
   ]
  },
  {
   "cell_type": "code",
   "execution_count": 87,
   "metadata": {},
   "outputs": [
    {
     "name": "stdout",
     "output_type": "stream",
     "text": [
      "Total number of occurances in the beginning =  4322\n"
     ]
    }
   ],
   "source": [
    "reg_exp = f\"{word}$\"\n",
    "number_of_occurances_in_end = 0\n",
    "\n",
    "if class_label == \"0\":\n",
    "\n",
    "    for tweet in negative_sentences:\n",
    "        match = list(re.finditer(reg_exp, tweet))\n",
    "        \n",
    "        if len(match) > 0:\n",
    "            for elem in match:\n",
    "                number_of_occurances_in_end += 1\n",
    "\n",
    "else:\n",
    "\n",
    "    for tweet in positive_sentences:\n",
    "        match = list(re.finditer(reg_exp, tweet))\n",
    "        \n",
    "        if len(match) > 0:\n",
    "            for elem in match:\n",
    "                number_of_occurances_in_end += 1\n",
    "                \n",
    "print(\"Total number of occurances in the beginning = \" ,number_of_occurances_in_end)"
   ]
  },
  {
   "cell_type": "markdown",
   "metadata": {},
   "source": [
    "## QUESTION 2\n",
    "\n",
    "### Remove URLs"
   ]
  },
  {
   "cell_type": "code",
   "execution_count": 88,
   "metadata": {},
   "outputs": [],
   "source": [
    "reg_exp = \"((https?|www[\\.][^\\.\\s])[^\\s]+)\"\n",
    "\n",
    "for i in range(len(negative_sent)): #Remove URLs\n",
    "    x = re.sub(reg_exp, \"\", negative_pre[i][2])\n",
    "    negative_pre[i][2] = x\n",
    "  \n",
    "for i in range(len(positive_sent)): #Remove URLs\n",
    "    x = re.sub(reg_exp, \"\", positive_pre[i][2])\n",
    "    positive_pre[i][2] = x  \n",
    "\n",
    " "
   ]
  },
  {
   "cell_type": "markdown",
   "metadata": {},
   "source": [
    "### Remove Usernames"
   ]
  },
  {
   "cell_type": "code",
   "execution_count": 89,
   "metadata": {},
   "outputs": [],
   "source": [
    "reg_exp = \"[@]\\w+\"\n",
    "\n",
    "for i in range(len(negative_sent)): #Remove Usernames\n",
    "    x = re.sub(reg_exp, \"\", negative_pre[i][2])\n",
    "    negative_pre[i][2] = x\n",
    "    \n",
    "for i in range(len(positive_sent)): #Remove Usernames\n",
    "    x = re.sub(reg_exp, \"\", positive_pre[i][2])\n",
    "    positive_pre[i][2] = x"
   ]
  },
  {
   "cell_type": "markdown",
   "metadata": {},
   "source": [
    "### Remove Punctuations and Special Characters"
   ]
  },
  {
   "cell_type": "code",
   "execution_count": 90,
   "metadata": {},
   "outputs": [],
   "source": [
    "reg_exp = \"&quot|&gt|&amp|&lt\"\n",
    "reg_exp2 = \"[^a-zA-Z0-9\\s]\"\n",
    "\n",
    "for i in range(len(negative_sent)): \n",
    "    x = re.sub(reg_exp, \"\", negative_pre[i][2])\n",
    "    x = re.sub(reg_exp2, \" \", x) \n",
    "    negative_pre[i][2] = x\n",
    "    \n",
    "for i in range(len(positive_sent)): \n",
    "    x = re.sub(reg_exp, \"\", positive_pre[i][2])\n",
    "    x = re.sub(reg_exp2, \" \", x) \n",
    "    positive_pre[i][2] = x\n",
    "    "
   ]
  },
  {
   "cell_type": "markdown",
   "metadata": {},
   "source": [
    "### Remove Numbers and Words Containing Numbers"
   ]
  },
  {
   "cell_type": "code",
   "execution_count": 91,
   "metadata": {},
   "outputs": [],
   "source": [
    "reg_exp = r\"\\b\\w*\\d\\w*\\b\"\n",
    "\n",
    "for i in range(len(negative_sent)): \n",
    "    x = re.sub(reg_exp, \" \", negative_pre[i][2])\n",
    "    negative_pre[i][2] = x\n",
    "    \n",
    "for i in range(len(positive_sent)): \n",
    "    x = re.sub(reg_exp, \" \", positive_pre[i][2])\n",
    "    positive_pre[i][2] = x"
   ]
  },
  {
   "cell_type": "markdown",
   "metadata": {},
   "source": [
    "### Remove Stopwords"
   ]
  },
  {
   "cell_type": "code",
   "execution_count": 92,
   "metadata": {},
   "outputs": [],
   "source": [
    "import nltk\n",
    "\n",
    "from nltk.corpus import stopwords\n",
    "\n",
    "stop_words = list(stopwords.words('english'))\n",
    "extra_stop_words = [\"u\",\"ur\",\"uk\",\"go\",\"x\",\"xxx\",\"l\",\"r\",\"b\",\"c\",\"d\",\"e\",\"f\",\"g\",\"h\",\"j\",\"k\",\"m\",\"n\",\"o\",\"p\",\"q\",\"v\",\"w\",\"y\",\"z\",\"im\",\"imi\"]\n",
    "stop_words = stop_words + extra_stop_words\n",
    "\n",
    "\n",
    "reg_exp = r\"\\b(\" + r\"|\".join(stop_words) + r\")\\b\"\n",
    "\n",
    "for i in range(len(negative_sent)): \n",
    "    x = re.sub(reg_exp, \" \", negative_pre[i][2])\n",
    "    negative_pre[i][2] = x\n",
    "    # print(x)\n",
    "    \n",
    "for i in range(len(positive_sent)): \n",
    "    x = re.sub(reg_exp, \" \", positive_pre[i][2])\n",
    "    positive_pre[i][2] = x\n",
    "    # print(x)"
   ]
  },
  {
   "cell_type": "markdown",
   "metadata": {},
   "source": [
    "### Remove Space"
   ]
  },
  {
   "cell_type": "code",
   "execution_count": 93,
   "metadata": {},
   "outputs": [],
   "source": [
    "reg_exp = \"\\s\\s+\"\n",
    "\n",
    "for i in range(len(negative_sent)): \n",
    "    x = re.sub(reg_exp, \" \", negative_pre[i][2])\n",
    "    negative_pre[i][2] = x\n",
    "    \n",
    "for i in range(len(positive_sent)): \n",
    "    x = re.sub(reg_exp, \" \", positive_pre[i][2])\n",
    "    positive_pre[i][2] = x"
   ]
  },
  {
   "cell_type": "markdown",
   "metadata": {},
   "source": [
    "### Tokenisation"
   ]
  },
  {
   "cell_type": "code",
   "execution_count": 94,
   "metadata": {},
   "outputs": [],
   "source": [
    "for i in range(len(negative_sent)): \n",
    "    x = negative_pre[i][2].split()\n",
    "    negative_pre[i][2] = x\n",
    "    # print(x)\n",
    "    \n",
    "for i in range(len(positive_sent)): \n",
    "    x = positive_pre[i][2].split()\n",
    "    positive_pre[i][2] = x\n",
    "    # print(x)"
   ]
  },
  {
   "cell_type": "markdown",
   "metadata": {},
   "source": [
    "### Spelling Correction"
   ]
  },
  {
   "cell_type": "code",
   "execution_count": 95,
   "metadata": {},
   "outputs": [
    {
     "name": "stderr",
     "output_type": "stream",
     "text": [
      "[nltk_data] Downloading package words to\n",
      "[nltk_data]     C:\\Users\\charv\\AppData\\Roaming\\nltk_data...\n",
      "[nltk_data]   Package words is already up-to-date!\n"
     ]
    },
    {
     "ename": "KeyboardInterrupt",
     "evalue": "",
     "output_type": "error",
     "traceback": [
      "\u001b[1;31m---------------------------------------------------------------------------\u001b[0m",
      "\u001b[1;31mKeyboardInterrupt\u001b[0m                         Traceback (most recent call last)",
      "\u001b[1;32mc:\\Users\\charv\\NLP-Assignments-Monsoon2022\\Assignment1\\NLP_A1.ipynb Cell 35\u001b[0m in \u001b[0;36m<cell line: 8>\u001b[1;34m()\u001b[0m\n\u001b[0;32m      <a href='vscode-notebook-cell:/c%3A/Users/charv/NLP-Assignments-Monsoon2022/Assignment1/NLP_A1.ipynb#X46sZmlsZQ%3D%3D?line=8'>9</a>\u001b[0m \u001b[39mfor\u001b[39;00m j \u001b[39min\u001b[39;00m \u001b[39mrange\u001b[39m(\u001b[39mlen\u001b[39m(negative_pre[i][\u001b[39m2\u001b[39m])):\n\u001b[0;32m     <a href='vscode-notebook-cell:/c%3A/Users/charv/NLP-Assignments-Monsoon2022/Assignment1/NLP_A1.ipynb#X46sZmlsZQ%3D%3D?line=9'>10</a>\u001b[0m     word \u001b[39m=\u001b[39m negative_pre[i][\u001b[39m2\u001b[39m][j]\n\u001b[1;32m---> <a href='vscode-notebook-cell:/c%3A/Users/charv/NLP-Assignments-Monsoon2022/Assignment1/NLP_A1.ipynb#X46sZmlsZQ%3D%3D?line=10'>11</a>\u001b[0m     temp \u001b[39m=\u001b[39m [(jaccard_distance(\u001b[39mset\u001b[39m(ngrams(word, \u001b[39m2\u001b[39m)),\u001b[39mset\u001b[39m(ngrams(w, \u001b[39m2\u001b[39m))),w)\n\u001b[0;32m     <a href='vscode-notebook-cell:/c%3A/Users/charv/NLP-Assignments-Monsoon2022/Assignment1/NLP_A1.ipynb#X46sZmlsZQ%3D%3D?line=11'>12</a>\u001b[0m             \u001b[39mfor\u001b[39;00m w \u001b[39min\u001b[39;00m correct_words \u001b[39mif\u001b[39;00m w[\u001b[39m0\u001b[39m]\u001b[39m==\u001b[39mword[\u001b[39m0\u001b[39m]]\n\u001b[0;32m     <a href='vscode-notebook-cell:/c%3A/Users/charv/NLP-Assignments-Monsoon2022/Assignment1/NLP_A1.ipynb#X46sZmlsZQ%3D%3D?line=12'>13</a>\u001b[0m     \u001b[39m# print(sorted(temp, key = lambda val:val[0])[0][1])\u001b[39;00m\n\u001b[0;32m     <a href='vscode-notebook-cell:/c%3A/Users/charv/NLP-Assignments-Monsoon2022/Assignment1/NLP_A1.ipynb#X46sZmlsZQ%3D%3D?line=13'>14</a>\u001b[0m     negative_pre[i][\u001b[39m2\u001b[39m][j] \u001b[39m=\u001b[39m \u001b[39msorted\u001b[39m(temp, key \u001b[39m=\u001b[39m \u001b[39mlambda\u001b[39;00m val:val[\u001b[39m0\u001b[39m])[\u001b[39m0\u001b[39m][\u001b[39m1\u001b[39m]\n",
      "\u001b[1;32mc:\\Users\\charv\\NLP-Assignments-Monsoon2022\\Assignment1\\NLP_A1.ipynb Cell 35\u001b[0m in \u001b[0;36m<listcomp>\u001b[1;34m(.0)\u001b[0m\n\u001b[0;32m      <a href='vscode-notebook-cell:/c%3A/Users/charv/NLP-Assignments-Monsoon2022/Assignment1/NLP_A1.ipynb#X46sZmlsZQ%3D%3D?line=8'>9</a>\u001b[0m \u001b[39mfor\u001b[39;00m j \u001b[39min\u001b[39;00m \u001b[39mrange\u001b[39m(\u001b[39mlen\u001b[39m(negative_pre[i][\u001b[39m2\u001b[39m])):\n\u001b[0;32m     <a href='vscode-notebook-cell:/c%3A/Users/charv/NLP-Assignments-Monsoon2022/Assignment1/NLP_A1.ipynb#X46sZmlsZQ%3D%3D?line=9'>10</a>\u001b[0m     word \u001b[39m=\u001b[39m negative_pre[i][\u001b[39m2\u001b[39m][j]\n\u001b[0;32m     <a href='vscode-notebook-cell:/c%3A/Users/charv/NLP-Assignments-Monsoon2022/Assignment1/NLP_A1.ipynb#X46sZmlsZQ%3D%3D?line=10'>11</a>\u001b[0m     temp \u001b[39m=\u001b[39m [(jaccard_distance(\u001b[39mset\u001b[39m(ngrams(word, \u001b[39m2\u001b[39m)),\u001b[39mset\u001b[39m(ngrams(w, \u001b[39m2\u001b[39m))),w)\n\u001b[1;32m---> <a href='vscode-notebook-cell:/c%3A/Users/charv/NLP-Assignments-Monsoon2022/Assignment1/NLP_A1.ipynb#X46sZmlsZQ%3D%3D?line=11'>12</a>\u001b[0m             \u001b[39mfor\u001b[39;00m w \u001b[39min\u001b[39;00m correct_words \u001b[39mif\u001b[39;00m w[\u001b[39m0\u001b[39m]\u001b[39m==\u001b[39mword[\u001b[39m0\u001b[39m]]\n\u001b[0;32m     <a href='vscode-notebook-cell:/c%3A/Users/charv/NLP-Assignments-Monsoon2022/Assignment1/NLP_A1.ipynb#X46sZmlsZQ%3D%3D?line=12'>13</a>\u001b[0m     \u001b[39m# print(sorted(temp, key = lambda val:val[0])[0][1])\u001b[39;00m\n\u001b[0;32m     <a href='vscode-notebook-cell:/c%3A/Users/charv/NLP-Assignments-Monsoon2022/Assignment1/NLP_A1.ipynb#X46sZmlsZQ%3D%3D?line=13'>14</a>\u001b[0m     negative_pre[i][\u001b[39m2\u001b[39m][j] \u001b[39m=\u001b[39m \u001b[39msorted\u001b[39m(temp, key \u001b[39m=\u001b[39m \u001b[39mlambda\u001b[39;00m val:val[\u001b[39m0\u001b[39m])[\u001b[39m0\u001b[39m][\u001b[39m1\u001b[39m]\n",
      "\u001b[1;31mKeyboardInterrupt\u001b[0m: "
     ]
    }
   ],
   "source": [
    "from nltk.metrics.distance import jaccard_distance\n",
    "from nltk.util import ngrams\n",
    "nltk.download('words')\n",
    "from nltk.corpus import words\n",
    "\n",
    "correct_words = words.words()\n",
    "\n",
    "for i in range(len(negative_pre)):\n",
    "    for j in range(len(negative_pre[i][2])):\n",
    "        word = negative_pre[i][2][j]\n",
    "        temp = [(jaccard_distance(set(ngrams(word, 2)),set(ngrams(w, 2))),w)\n",
    "                for w in correct_words if w[0]==word[0]]\n",
    "        # print(sorted(temp, key = lambda val:val[0])[0][1])\n",
    "        negative_pre[i][2][j] = sorted(temp, key = lambda val:val[0])[0][1]\n",
    "\n",
    "\n",
    "for i in range(len(positive_pre)):\n",
    "    for j in range(len(positive_pre[i][2])):\n",
    "        word = positive_pre[i][2][j]\n",
    "        temp = [(jaccard_distance(set(ngrams(word, 2)),set(ngrams(w, 2))),w)\n",
    "                for w in correct_words if w[0]==word[0]]\n",
    "        # print(sorted(temp, key = lambda val:val[0])[0][1])\n",
    "        positive_pre[i][2][j] = sorted(temp, key = lambda val:val[0])[0][1]\n",
    "        "
   ]
  },
  {
   "cell_type": "markdown",
   "metadata": {},
   "source": [
    "### Lemmatization"
   ]
  },
  {
   "cell_type": "code",
   "execution_count": 96,
   "metadata": {},
   "outputs": [],
   "source": [
    "from nltk.corpus import wordnet\n",
    "from nltk.stem.wordnet import WordNetLemmatizer\n",
    "lem = WordNetLemmatizer()\n",
    "\n",
    "for i in range(len(negative_pre)):\n",
    "    for j in range(len(negative_pre[i][2])):\n",
    "        word = negative_pre[i][2][j]\n",
    "        word = lem.lemmatize(word, wordnet.VERB)\n",
    "        negative_pre[i][2][j] = word\n",
    "        # print(word) \n",
    "        \n",
    "for i in range(len(positive_pre)):\n",
    "    for j in range(len(positive_pre[i][2])):\n",
    "        word = positive_pre[i][2][j]\n",
    "        word = lem.lemmatize(word, wordnet.VERB)\n",
    "        positive_pre[i][2][j] = word\n",
    "        # print(word) \n",
    "        \n",
    "# print(negative_pre)\n",
    "# print(positive_pre)"
   ]
  },
  {
   "cell_type": "markdown",
   "metadata": {},
   "source": [
    "## QUESTION 3\n",
    "\n",
    "### WORDCLOUD"
   ]
  },
  {
   "cell_type": "code",
   "execution_count": null,
   "metadata": {},
   "outputs": [
    {
     "name": "stdout",
     "output_type": "stream",
     "text": [
      "Requirement already satisfied: matplotlib in c:\\users\\charv\\appdata\\local\\programs\\python\\python39\\lib\\site-packages (3.4.3)\n",
      "Requirement already satisfied: cycler>=0.10 in c:\\users\\charv\\appdata\\local\\programs\\python\\python39\\lib\\site-packages (from matplotlib) (0.10.0)\n",
      "Requirement already satisfied: numpy>=1.16 in c:\\users\\charv\\appdata\\local\\programs\\python\\python39\\lib\\site-packages (from matplotlib) (1.20.3)\n",
      "Requirement already satisfied: pyparsing>=2.2.1 in c:\\users\\charv\\appdata\\local\\programs\\python\\python39\\lib\\site-packages (from matplotlib) (2.4.7)\n",
      "Requirement already satisfied: kiwisolver>=1.0.1 in c:\\users\\charv\\appdata\\local\\programs\\python\\python39\\lib\\site-packages (from matplotlib) (1.3.1)\n",
      "Requirement already satisfied: python-dateutil>=2.7 in c:\\users\\charv\\appdata\\local\\programs\\python\\python39\\lib\\site-packages (from matplotlib) (2.8.2)\n",
      "Requirement already satisfied: pillow>=6.2.0 in c:\\users\\charv\\appdata\\local\\programs\\python\\python39\\lib\\site-packages (from matplotlib) (8.3.1)\n",
      "Requirement already satisfied: six in c:\\users\\charv\\appdata\\local\\programs\\python\\python39\\lib\\site-packages (from cycler>=0.10->matplotlib) (1.16.0)\n",
      "Note: you may need to restart the kernel to use updated packages.\n"
     ]
    },
    {
     "name": "stderr",
     "output_type": "stream",
     "text": [
      "WARNING: There was an error checking the latest version of pip.\n"
     ]
    }
   ],
   "source": [
    "pip install matplotlib"
   ]
  },
  {
   "cell_type": "code",
   "execution_count": null,
   "metadata": {},
   "outputs": [
    {
     "name": "stdout",
     "output_type": "stream",
     "text": [
      "Note: you may need to restart the kernel to use updated packages.Requirement already satisfied: wordcloud in c:\\users\\charv\\appdata\\local\\programs\\python\\python39\\lib\\site-packages (1.8.2.2)\n",
      "Requirement already satisfied: pillow in c:\\users\\charv\\appdata\\local\\programs\\python\\python39\\lib\\site-packages (from wordcloud) (8.3.1)\n",
      "Requirement already satisfied: matplotlib in c:\\users\\charv\\appdata\\local\\programs\\python\\python39\\lib\\site-packages (from wordcloud) (3.4.3)\n",
      "Requirement already satisfied: numpy>=1.6.1 in c:\\users\\charv\\appdata\\local\\programs\\python\\python39\\lib\\site-packages (from wordcloud) (1.20.3)\n",
      "Requirement already satisfied: python-dateutil>=2.7 in c:\\users\\charv\\appdata\\local\\programs\\python\\python39\\lib\\site-packages (from matplotlib->wordcloud) (2.8.2)\n",
      "Requirement already satisfied: pyparsing>=2.2.1 in c:\\users\\charv\\appdata\\local\\programs\\python\\python39\\lib\\site-packages (from matplotlib->wordcloud) (2.4.7)\n",
      "Requirement already satisfied: kiwisolver>=1.0.1 in c:\\users\\charv\\appdata\\local\\programs\\python\\python39\\lib\\site-packages (from matplotlib->wordcloud) (1.3.1)\n",
      "Requirement already satisfied: cycler>=0.10 in c:\\users\\charv\\appdata\\local\\programs\\python\\python39\\lib\\site-packages (from matplotlib->wordcloud) (0.10.0)\n",
      "Requirement already satisfied: six in c:\\users\\charv\\appdata\\local\\programs\\python\\python39\\lib\\site-packages (from cycler>=0.10->matplotlib->wordcloud) (1.16.0)\n",
      "\n"
     ]
    },
    {
     "name": "stderr",
     "output_type": "stream",
     "text": [
      "WARNING: There was an error checking the latest version of pip.\n"
     ]
    }
   ],
   "source": [
    "pip install wordcloud"
   ]
  },
  {
   "cell_type": "markdown",
   "metadata": {},
   "source": [
    "### WORD CLOUD - NEGATIVE CLASS "
   ]
  },
  {
   "cell_type": "code",
   "execution_count": null,
   "metadata": {},
   "outputs": [],
   "source": [
    "from wordcloud import WordCloud, STOPWORDS\n",
    "import matplotlib.pyplot as plt\n",
    "\n",
    "negative_word_string = \"\"\n",
    "\n",
    "\n",
    "for tweet in negative_pre:\n",
    "    negative_word_string = negative_word_string + \" \".join(tweet[2]) + \" \"\n",
    "stopwords_wc = set(STOPWORDS)       \n",
    "\n",
    "wordcloud = WordCloud(width = 800, height = 800, background_color ='white',min_font_size = 10).generate(negative_word_string)\n",
    "\n",
    "plt.figure(figsize = (10, 10), facecolor = None)\n",
    "plt.imshow(wordcloud)\n",
    "plt.axis(\"off\")\n",
    "plt.tight_layout(pad = 0)\n",
    " \n",
    "plt.show()"
   ]
  },
  {
   "cell_type": "markdown",
   "metadata": {},
   "source": [
    "### WORD CLOUD - POSITIVE CLASS"
   ]
  },
  {
   "cell_type": "code",
   "execution_count": null,
   "metadata": {},
   "outputs": [],
   "source": [
    "positive_word_string = \"\"\n",
    "\n",
    "for tweet in positive_pre:\n",
    "    positive_word_string = positive_word_string + \" \".join(tweet[2]) + \" \"\n",
    "# stopwords_wc = set(STOPWORDS)\n",
    "   \n",
    "wordcloud = WordCloud(width = 800, height = 800, background_color ='white', stopwords= stopwords_wc, min_font_size = 10).generate(positive_word_string)\n",
    "                     \n",
    "plt.figure(figsize = (10, 10), facecolor = None)\n",
    "plt.imshow(wordcloud)\n",
    "plt.axis(\"off\")\n",
    "plt.tight_layout(pad = 0)\n",
    "\n",
    " \n",
    "plt.show()"
   ]
  },
  {
   "cell_type": "markdown",
   "metadata": {},
   "source": [
    "## QUESTION 4\n",
    "\n",
    "### SENTIMENT ANALYSIS"
   ]
  },
  {
   "cell_type": "code",
   "execution_count": 98,
   "metadata": {},
   "outputs": [],
   "source": [
    "from vaderSentiment.vaderSentiment import SentimentIntensityAnalyzer\n",
    "\n",
    "final_list_negative = []\n",
    "final_list_positive = []\n",
    "\n",
    "sentiment_analyzer_object = SentimentIntensityAnalyzer()\n",
    "    \n",
    "for i in range(len(negative_pre)):\n",
    "    curr_sent = \" \".join(negative_pre[i][2])\n",
    "\n",
    "    sentiment = sentiment_analyzer_object.polarity_scores(curr_sent)\n",
    "\n",
    "    if sentiment['compound'] >= 0.05:\n",
    "        negative_pre[i].append(\"1\")\n",
    "    elif sentiment['compound'] <= -0.05:\n",
    "        negative_pre[i].append(\"0\")\n",
    "    else:\n",
    "        negative_pre[i].append(\"2\")\n",
    "\n",
    "for i in range(len(positive_pre)):\n",
    "    curr_sent = \" \".join(positive_pre[i][2])\n",
    "\n",
    "    sentiment = sentiment_analyzer_object.polarity_scores(curr_sent)\n",
    "\n",
    "    if sentiment['compound'] >= 0.05:\n",
    "        positive_pre[i].append(\"1\")\n",
    "    elif sentiment['compound'] <= -0.05:\n",
    "        positive_pre[i].append(\"0\")\n",
    "    else:\n",
    "        positive_pre[i].append(\"2\")\n",
    "\n",
    "for i in range(len(data_list)):\n",
    "    curr_sent = data_list[i][2]\n",
    "\n",
    "    sentiment = sentiment_analyzer_object.polarity_scores(curr_sent)\n",
    "\n",
    "    if sentiment['compound'] >= 0.05:\n",
    "        data_list[i].append(\"1\")\n",
    "    elif sentiment['compound'] <= -0.05:\n",
    "        data_list[i].append(\"0\")\n",
    "    else:\n",
    "        data_list[i].append(\"2\")\n",
    "        \n",
    "# print(negative_pre)"
   ]
  },
  {
   "cell_type": "markdown",
   "metadata": {},
   "source": [
    "### ACCURACY (Discarding neutral)"
   ]
  },
  {
   "cell_type": "code",
   "execution_count": 100,
   "metadata": {},
   "outputs": [
    {
     "name": "stdout",
     "output_type": "stream",
     "text": [
      "0.5194774900863074\n",
      "0.5360391882435269\n"
     ]
    }
   ],
   "source": [
    "accurate_total_pre = 0\n",
    "accurate_total_raw = 0\n",
    "\n",
    "for tweet in negative_pre:\n",
    "    if(tweet[0] == tweet[3]):\n",
    "        accurate_total_pre+=1\n",
    "for tweet in positive_pre:\n",
    "    if(tweet[0] == tweet[3]):\n",
    "        accurate_total_pre+=1\n",
    "        \n",
    "for tweet in data_list:\n",
    "    if(tweet[0] == tweet[3]):\n",
    "        accurate_total_raw+=1\n",
    "        \n",
    "accuracy_pre = accurate_total_pre / (len(negative_pre)+len(positive_pre))\n",
    "accuracy_raw = accurate_total_raw/len(data_list)\n",
    "\n",
    "print(\"Accuracy of preprocessed data =\", accuracy_pre)\n",
    "print(\"Accuracy of raw data =\", accuracy_raw)"
   ]
  },
  {
   "cell_type": "markdown",
   "metadata": {},
   "source": [
    "### ACCURACY (Neutral is positive)"
   ]
  },
  {
   "cell_type": "code",
   "execution_count": 104,
   "metadata": {},
   "outputs": [
    {
     "name": "stdout",
     "output_type": "stream",
     "text": [
      "0.6610683461628178\n",
      "0.6846279449498484\n"
     ]
    }
   ],
   "source": [
    "accurate_total_pre_neutral_is_positive = 0\n",
    "accurate_total_raw_neutral_is_positive = 0\n",
    "\n",
    "for tweet in negative_pre:\n",
    "    if(tweet[0] == tweet[3]):\n",
    "        accurate_total_pre_neutral_is_positive+=1\n",
    "for tweet in positive_pre:\n",
    "    if(tweet[0] == tweet[3] or tweet[3] == \"2\"):\n",
    "        accurate_total_pre_neutral_is_positive+=1\n",
    "        \n",
    "for tweet in data_list:\n",
    "    if(tweet[0] == tweet[3] or (tweet[3] == \"2\" and tweet[0] == \"1\")):\n",
    "        accurate_total_raw_neutral_is_positive+=1\n",
    "        \n",
    "accuracy_pre = accurate_total_pre_neutral_is_positive / (len(negative_pre)+len(positive_pre))\n",
    "accuracy_raw = accurate_total_raw_neutral_is_positive/len(data_list)\n",
    "\n",
    "print(\"Accuracy of preprocessed data =\", accuracy_pre)\n",
    "print(\"Accuracy of raw data =\", accuracy_raw)"
   ]
  },
  {
   "cell_type": "markdown",
   "metadata": {},
   "source": [
    "### ACCURACY (Neutral is negative)"
   ]
  },
  {
   "cell_type": "code",
   "execution_count": 109,
   "metadata": {},
   "outputs": [
    {
     "name": "stdout",
     "output_type": "stream",
     "text": [
      "Accuracy of preprocessed data = 0.6442733846512713\n",
      "Accuracy of raw data = 0.6540704455330068\n"
     ]
    }
   ],
   "source": [
    "accurate_total_pre_neutral_is_negative = 0\n",
    "accurate_total_raw_neutral_is_negative = 0\n",
    "\n",
    "for tweet in negative_pre:\n",
    "    if(tweet[0] == tweet[3] or tweet[3] == \"2\"):\n",
    "        accurate_total_pre_neutral_is_negative+=1\n",
    "for tweet in positive_pre:\n",
    "    if(tweet[0] == tweet[3]):\n",
    "        accurate_total_pre_neutral_is_negative+=1\n",
    "        \n",
    "for tweet in data_list:\n",
    "    if(tweet[0] == tweet[3] or (tweet[3] == \"2\" and tweet[0] == \"0\")):\n",
    "        accurate_total_raw_neutral_is_negative+=1\n",
    "        \n",
    "accuracy_pre = accurate_total_pre_neutral_is_negative / (len(negative_pre)+len(positive_pre))\n",
    "accuracy_raw = accurate_total_raw_neutral_is_negative/len(data_list)\n",
    "\n",
    "print(\"Accuracy of preprocessed data =\", accuracy_pre)\n",
    "print(\"Accuracy of raw data =\", accuracy_raw)"
   ]
  }
 ],
 "metadata": {
  "kernelspec": {
   "display_name": "Python 3.9.5 64-bit",
   "language": "python",
   "name": "python3"
  },
  "language_info": {
   "codemirror_mode": {
    "name": "ipython",
    "version": 3
   },
   "file_extension": ".py",
   "mimetype": "text/x-python",
   "name": "python",
   "nbconvert_exporter": "python",
   "pygments_lexer": "ipython3",
   "version": "3.9.5"
  },
  "orig_nbformat": 4,
  "vscode": {
   "interpreter": {
    "hash": "cbab7ad93b4c816b81ea2fcadccb708733fafe3d4de9be705110c0acce2d8094"
   }
  }
 },
 "nbformat": 4,
 "nbformat_minor": 2
}
