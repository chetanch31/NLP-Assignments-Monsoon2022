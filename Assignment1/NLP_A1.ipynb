{
 "cells": [
  {
   "cell_type": "code",
   "execution_count": 2,
   "metadata": {},
   "outputs": [],
   "source": [
    "import csv\n",
    "import re\n",
    "\n",
    "with open(\"A1_dataset.csv\", encoding=\"utf8\", newline='') as file:\n",
    "    data = csv.reader(file)\n",
    "    next(data)\n",
    "    data_list = list(data)"
   ]
  },
  {
   "cell_type": "code",
   "execution_count": 3,
   "metadata": {},
   "outputs": [],
   "source": [
    "negative_sent = []\n",
    "positive_sent = []\n",
    "\n",
    "for line in data_list:\n",
    "    if line[0][0] == \"0\":\n",
    "        negative_sent.append(line)\n",
    "\n",
    "    else:\n",
    "        positive_sent.append(line)"
   ]
  },
  {
   "cell_type": "markdown",
   "metadata": {},
   "source": [
    "Regex used for tokenization = ((https?|www).+\\w+|[@]?\\w+|(\\.+)|[^\\w\\s])\n",
    "\n",
    "The above regex considers it as a token if one of the following coniditon is matched\n",
    "1. Starts with an http,www,https (handles urls)\n",
    "2. Is a word, can start with '@' (counts usernames as single tokens)\n",
    "3. Any character other than above specified"
   ]
  },
  {
   "cell_type": "code",
   "execution_count": 17,
   "metadata": {},
   "outputs": [
    {
     "name": "stdout",
     "output_type": "stream",
     "text": [
      "Average tokens in negative tweets = 16.42 tokens/tweet\n",
      "Average tokens in positive tweets = 15.789680804547443 tokens/tweet\n"
     ]
    }
   ],
   "source": [
    "reg_exp = \"((https?|www).+\\w+|[@]?\\w+|(\\.+)|[^\\w\\s])\"\n",
    "\n",
    "total_negative_tokens = 0\n",
    "total_positive_tokens = 0\n",
    "\n",
    "for tweet in negative_sent:\n",
    "    tokens = re.findall(reg_exp, tweet[2])\n",
    "    total_negative_tokens += len(tokens)\n",
    "\n",
    "for tweet in positive_sent:\n",
    "    tokens = re.findall(reg_exp, tweet[2])\n",
    "    total_positive_tokens += len(tokens)\n",
    "\n",
    "average_negative_tokens = total_negative_tokens/len(negative_sent)\n",
    "average_positive_tokens = total_positive_tokens/len(positive_sent)\n",
    "\n",
    "print(f\"Average tokens in negative tweets = {average_negative_tokens} tokens/tweet\")\n",
    "print(f\"Average tokens in positive tweets = {average_positive_tokens} tokens/tweet\")"
   ]
  },
  {
   "cell_type": "markdown",
   "metadata": {},
   "source": [
    "Regex for sentences = \"[^.!?\\s][^.!?\\n]*(https?|www.+\\w+|[@]?\\w+|\\.+|[^\\w\\s]*)\""
   ]
  },
  {
   "cell_type": "code",
   "execution_count": 31,
   "metadata": {},
   "outputs": [
    {
     "name": "stdout",
     "output_type": "stream",
     "text": [
      "Average sentences in negative tweets = 1.85 sentences/tweet\n",
      "Average sentences in positive tweets = 1.9610843900306079 sentences/tweet\n"
     ]
    }
   ],
   "source": [
    "reg_exp = r'[^.!?\\s][^.!?\\n]*(https?|www.+\\w+|[@]?\\w+|\\.+|[^\\w\\s]*)'\n",
    "\n",
    "total_negative_sentences = 0\n",
    "total_positive_sentences = 0\n",
    "\n",
    "for tweet in negative_sent:\n",
    "    sentences = re.findall(reg_exp, tweet[2])\n",
    "    total_negative_sentences += len(sentences)\n",
    "\n",
    "for tweet in positive_sent:\n",
    "    sentences = re.findall(reg_exp, tweet[2])\n",
    "    total_positive_sentences += len(sentences)\n",
    "\n",
    "average_negative_sentences = total_negative_sentences/len(negative_sent)\n",
    "average_positive_sentences = total_positive_sentences/len(positive_sent)\n",
    "\n",
    "print(f\"Average sentences in negative tweets = {average_negative_sentences} sentences/tweet\")\n",
    "print(f\"Average sentences in positive tweets = {average_positive_sentences} sentences/tweet\")"
   ]
  },
  {
   "cell_type": "code",
   "execution_count": 5,
   "metadata": {},
   "outputs": [],
   "source": [
    "# reg = \"r'\\b(?<!-)[aeiouAEIOU][-\\w']*(?!@)\\b'\"\n",
    "words_v_n = 0 #No of words starting with a vowel in negative class\n",
    "words_c_n = 0 #No of words starting with a consonant in negative class\n",
    "words_v_p = 0 #No of words starting with a vowel in positive class\n",
    "words_c_p = 0 #No of words starting with a consonant in positive class\n",
    "\n",
    "for i in range(len(negative_sent)): #No of words starting with a vowel in negative class\n",
    "    tokens = re.findall(r\"\\b(?<![-@])[aeiouAEIOU][-a-zA-Z']*(?!@)\\b\", negative_sent[i][2])\n",
    "    words_v_n += len(tokens)\n",
    "\n",
    "for i in range(len(positive_sent)): #No of words starting with a vowel in positive class\n",
    "    tokens = re.findall(r\"\\b(?<![-@])[aeiouAEIOU][-a-zA-Z']*(?!@)\\b\", positive_sent[i][2])\n",
    "    words_v_p += len(tokens)\n",
    "    \n",
    "for i in range(len(negative_sent)): #No of words starting with a consonant in negative class\n",
    "    tokens = re.findall(r\"\\b(?<![-@.'])[^-\\saeiouAEIOU@.//:'\\\\)\\d][-a-zA-Z']*(?!.com)\\b\", negative_sent[i][2])\n",
    "    words_c_n += len(tokens)\n",
    "    # print(tokens)\n",
    "\n",
    "for i in range(len(positive_sent)): #No of words starting with a consonant in positive class\n",
    "    tokens = re.findall(r\"\\b(?<![-@.'])[^-\\saeiouAEIOU@.:'\\\\//)d][-a-zA-Z']*(?!.com)\\b\", positive_sent[i][2])\n",
    "    words_c_p += len(tokens)\n",
    "    # print(tokens)"
   ]
  },
  {
   "cell_type": "markdown",
   "metadata": {},
   "source": [
    "## Lower casing all the text"
   ]
  },
  {
   "cell_type": "code",
   "execution_count": 70,
   "metadata": {},
   "outputs": [],
   "source": [
    "def lower_text(result):\n",
    "    return result.group(0).lower()\n",
    "\n",
    "negative_sent_lower = []\n",
    "positive_sent_lower = []\n",
    "\n",
    "for tweet in negative_sent:\n",
    "    new_text = re.sub(\"[A-Z]\", lower_text, tweet[2])\n",
    "    negative_sent_lower.append(new_text)\n",
    "\n",
    "for tweet in positive_sent:\n",
    "    new_text = re.sub(\"[A-Z]\", lower_text, tweet[2])\n",
    "    positive_sent_lower.append(new_text)"
   ]
  },
  {
   "cell_type": "markdown",
   "metadata": {},
   "source": [
    "## Counting and listing all usernames"
   ]
  },
  {
   "cell_type": "code",
   "execution_count": 60,
   "metadata": {},
   "outputs": [
    {
     "name": "stdout",
     "output_type": "stream",
     "text": [
      "Total usernames in negative:  803\n",
      "Total usernames in positive:  1305\n"
     ]
    }
   ],
   "source": [
    "reg_exp = \"[@]\\w+\"\n",
    "\n",
    "total_usernames_in_negative = 0\n",
    "total_usernames_in_positive = 0\n",
    "\n",
    "usernames_in_negative = []\n",
    "usernames_in_positive = []\n",
    "\n",
    "for tweet in negative_sent:\n",
    "    usernames = re.findall(reg_exp, tweet[2])\n",
    "    \n",
    "    if len(usernames) != 0:\n",
    "\n",
    "        total_usernames_in_negative += len(usernames)\n",
    "\n",
    "        for user in usernames:\n",
    "            usernames_in_negative.append(user)\n",
    "\n",
    "\n",
    "for tweet in positive_sent:\n",
    "    usernames = re.findall(reg_exp, tweet[2])\n",
    "    \n",
    "    if len(usernames) != 0:\n",
    "\n",
    "        total_usernames_in_positive += len(usernames)\n",
    "\n",
    "        for user in usernames:\n",
    "            usernames_in_positive.append(user)\n",
    "\n",
    "print(\"Total usernames in negative: \", total_usernames_in_negative)\n",
    "#print(usernames_in_negative)\n",
    "\n",
    "print(\"Total usernames in positive: \",total_usernames_in_positive)\n",
    "#print(usernames_in_positive)"
   ]
  },
  {
   "cell_type": "markdown",
   "metadata": {},
   "source": [
    "## Counting and listing all the URLs"
   ]
  },
  {
   "cell_type": "code",
   "execution_count": 54,
   "metadata": {},
   "outputs": [
    {
     "name": "stdout",
     "output_type": "stream",
     "text": [
      "Total URLs in negative:  60\n",
      "Total URLs in positive:  136\n"
     ]
    }
   ],
   "source": [
    "reg_exp = \"((https?|www[\\.][^\\.\\s])[^\\s]+)\"\n",
    "\n",
    "total_url_in_negative = 0\n",
    "total_url_in_positive = 0\n",
    "\n",
    "urls_in_negative = []\n",
    "urls_in_positive = []\n",
    "\n",
    "for tweet in negative_sent:\n",
    "    urls = re.findall(reg_exp, tweet[2])\n",
    "    \n",
    "    if len(urls) != 0:\n",
    "        total_url_in_negative += len(urls)\n",
    "        for i in urls:\n",
    "            urls_in_negative.append(i[0])\n",
    "\n",
    "for tweet in positive_sent:\n",
    "    urls = re.findall(reg_exp, tweet[2])\n",
    "    \n",
    "    if len(urls) != 0:\n",
    "        total_url_in_positive += len(urls)\n",
    "        for i in urls:\n",
    "            urls_in_positive.append(i[0])\n",
    "\n",
    "print(\"Total URLs in negative: \", total_url_in_negative)\n",
    "#print(urls_in_negative)\n",
    "\n",
    "print(\"Total URLs in positive: \",total_url_in_positive)\n",
    "#print(urls_in_positive)"
   ]
  }
 ],
 "metadata": {
  "kernelspec": {
   "display_name": "Python 3.10.1 ('env': venv)",
   "language": "python",
   "name": "python3"
  },
  "language_info": {
   "codemirror_mode": {
    "name": "ipython",
    "version": 3
   },
   "file_extension": ".py",
   "mimetype": "text/x-python",
   "name": "python",
   "nbconvert_exporter": "python",
   "pygments_lexer": "ipython3",
   "version": "3.10.1"
  },
  "orig_nbformat": 4,
  "vscode": {
   "interpreter": {
    "hash": "d67b38e366ca74dac447d11a031a36b4e680cd6b313aec980c02ee663b193322"
   }
  }
 },
 "nbformat": 4,
 "nbformat_minor": 2
}
