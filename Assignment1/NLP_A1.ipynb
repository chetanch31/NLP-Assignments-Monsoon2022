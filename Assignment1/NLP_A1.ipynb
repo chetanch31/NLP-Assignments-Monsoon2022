{
 "cells": [
  {
   "cell_type": "code",
   "execution_count": 41,
   "metadata": {},
   "outputs": [],
   "source": [
    "import csv\n",
    "import re\n",
    "\n",
    "with open(\"A1_dataset.csv\", encoding=\"utf8\", newline='') as file:\n",
    "    data = csv.reader(file)\n",
    "    next(data)\n",
    "    data_list = list(data)"
   ]
  },
  {
   "cell_type": "code",
   "execution_count": 42,
   "metadata": {},
   "outputs": [],
   "source": [
    "negative_sent = []\n",
    "positive_sent = []\n",
    "\n",
    "for line in data_list:\n",
    "    if line[0][0] == \"0\":\n",
    "        negative_sent.append(line)\n",
    "\n",
    "    else:\n",
    "        positive_sent.append(line)"
   ]
  },
  {
   "cell_type": "markdown",
   "metadata": {},
   "source": [
    "Regex used for tokenization = ((https?|www).+\\w+|[@]?\\w+|(\\.+)|[^\\w\\s])\n",
    "\n",
    "The above regex considers it as a token if one of the following coniditon is matched\n",
    "1. Starts with an http,www,https (handles urls)\n",
    "2. Is a word, can start with '@' (counts usernames as single tokens)\n",
    "3. Any character other than above specified"
   ]
  },
  {
   "cell_type": "code",
   "execution_count": 43,
   "metadata": {},
   "outputs": [
    {
     "name": "stdout",
     "output_type": "stream",
     "text": [
      "Average tokens in negative tweets = 16.588 tokens/tweet\n",
      "Average tokens in positive tweets = 16.06077831219939 tokens/tweet\n"
     ]
    }
   ],
   "source": [
    "reg_exp = r\"((https?|www).+\\w+\\.([\\w])+[^\\s]+)|[@]?\\w+|(\\.+)|[^\\w\\s]\"\n",
    "\n",
    "total_negative_tokens = 0\n",
    "total_positive_tokens = 0\n",
    "\n",
    "unique_negative_tokens = set()\n",
    "unique_positive_tokens = set()\n",
    "\n",
    "for tweet in negative_sent:\n",
    "    tokens = re.finditer(reg_exp, tweet[2], re.MULTILINE)\n",
    "    tokens_list = list(tokens)\n",
    "\n",
    "    for match in tokens_list:\n",
    "        unique_negative_tokens.add(match.group())\n",
    "\n",
    "    total_negative_tokens += len(tokens_list)\n",
    "\t\n",
    "\n",
    "for tweet in positive_sent:\n",
    "    tokens = re.finditer(reg_exp, tweet[2], re.MULTILINE)\n",
    "    tokens_list = list(tokens)\n",
    "\n",
    "    for match in tokens_list:\n",
    "        unique_positive_tokens.add(match.group())\n",
    "\n",
    "    total_positive_tokens += len(tokens_list)\n",
    "\n",
    "average_negative_tokens = total_negative_tokens/len(negative_sent)\n",
    "average_positive_tokens = total_positive_tokens/len(positive_sent)\n",
    "\n",
    "\n",
    "print(f\"Average tokens in negative tweets = {average_negative_tokens} tokens/tweet\")\n",
    "print(f\"Average tokens in positive tweets = {average_positive_tokens} tokens/tweet\")\n"
   ]
  },
  {
   "cell_type": "markdown",
   "metadata": {},
   "source": [
    "Regex for sentences = \"[^.!?\\s][^.!?\\n]*(https?|www.+\\w+|[@]?\\w+|\\.+|[^\\w\\s]*)\""
   ]
  },
  {
   "cell_type": "code",
   "execution_count": 44,
   "metadata": {},
   "outputs": [
    {
     "name": "stdout",
     "output_type": "stream",
     "text": [
      "Average sentences in negative tweets = 1.8145 sentences/tweet\n",
      "Average sentences in positive tweets = 1.889811980760822 sentences/tweet\n"
     ]
    }
   ],
   "source": [
    "reg_exp = r'[^.!?\\s][^.!?\\n]*(https?|www.+\\w+|[@]?\\w+|\\.+|[^\\w\\s]*)+'\n",
    "\n",
    "total_negative_sentences = 0\n",
    "total_positive_sentences = 0\n",
    "\n",
    "positive_sentences = []\n",
    "negative_sentences = []\n",
    "\n",
    "for tweet in negative_sent:\n",
    "    sentences = re.finditer(reg_exp, tweet[2])\n",
    "    sentences_list = list(sentences)\n",
    "    total_negative_sentences += len(sentences_list)\n",
    "    \n",
    "    for sent in sentences_list:\n",
    "        negative_sentences.append(sent.group())\n",
    "\n",
    "for tweet in positive_sent:\n",
    "    sentences = re.finditer(reg_exp, tweet[2])\n",
    "    sentences_list = list(sentences)\n",
    "    total_positive_sentences += len(sentences_list)\n",
    "    \n",
    "    for sent in sentences_list:\n",
    "        positive_sentences.append(sent.group())\n",
    "\n",
    "average_negative_sentences = total_negative_sentences/len(negative_sent)\n",
    "average_positive_sentences = total_positive_sentences/len(positive_sent)\n",
    "\n",
    "print(f\"Average sentences in negative tweets = {average_negative_sentences} sentences/tweet\")\n",
    "print(f\"Average sentences in positive tweets = {average_positive_sentences} sentences/tweet\")"
   ]
  },
  {
   "cell_type": "code",
   "execution_count": 45,
   "metadata": {},
   "outputs": [
    {
     "name": "stdout",
     "output_type": "stream",
     "text": [
      "No of words starting with a vowel in negative class =  6867\n",
      "No of words starting with a vowel in positive class =  7010\n",
      "No of words starting with a consonant in negative class =  19039\n",
      "No of words starting with a consonant in positive class =  20245\n"
     ]
    }
   ],
   "source": [
    "# reg = \"r'\\b(?<!-)[aeiouAEIOU][-\\w']*(?!@)\\b'\"\n",
    "words_v_n = 0 #No of words starting with a vowel in negative class\n",
    "words_c_n = 0 #No of words starting with a consonant in negative class\n",
    "words_v_p = 0 #No of words starting with a vowel in positive class\n",
    "words_c_p = 0 #No of words starting with a consonant in positive class\n",
    "\n",
    "for i in range(len(negative_sent)): #No of words starting with a vowel in negative class\n",
    "    tokens = re.findall(r\"\\b(?<![-@])[aeiouAEIOU][-a-zA-Z']*(?!@)\\b\", negative_sent[i][2])\n",
    "    words_v_n += len(tokens)\n",
    "\n",
    "for i in range(len(positive_sent)): #No of words starting with a vowel in positive class\n",
    "    tokens = re.findall(r\"\\b(?<![-@])[aeiouAEIOU][-a-zA-Z']*(?!@)\\b\", positive_sent[i][2])\n",
    "    words_v_p += len(tokens)\n",
    "    \n",
    "for i in range(len(negative_sent)): #No of words starting with a consonant in negative class\n",
    "    tokens = re.findall(r\"\\b(?<![-@.'])[^-\\saeiouAEIOU@.//:'\\\\)\\d][-a-zA-Z']*(?!.com)\\b\", negative_sent[i][2])\n",
    "    words_c_n += len(tokens)\n",
    "    # print(tokens)\n",
    "\n",
    "for i in range(len(positive_sent)): #No of words starting with a consonant in positive class\n",
    "    tokens = re.findall(r\"\\b(?<![-@.'])[^-\\saeiouAEIOU@.:'\\\\//)d][-a-zA-Z']*(?!.com)\\b\", positive_sent[i][2])\n",
    "    words_c_p += len(tokens)\n",
    "    # print(tokens)\n",
    "\n",
    "print(\"No of words starting with a vowel in negative class = \" , words_v_n)\n",
    "print(\"No of words starting with a vowel in positive class = \", words_v_p)\n",
    "\n",
    "print(\"No of words starting with a consonant in negative class = \", words_c_n)\n",
    "print(\"No of words starting with a consonant in positive class = \", words_c_p)\n",
    "\n"
   ]
  },
  {
   "cell_type": "markdown",
   "metadata": {},
   "source": [
    "## Lower casing all the text"
   ]
  },
  {
   "cell_type": "code",
   "execution_count": 46,
   "metadata": {},
   "outputs": [
    {
     "name": "stdout",
     "output_type": "stream",
     "text": [
      "Negatives\n",
      "Unique tokens before lowercase =  6448\n",
      "Unique tokens after lowercase =  5655\n",
      "Positives\n",
      "Unique tokens before lowercase =  7900\n",
      "Unique tokens after lowercase =  6875\n"
     ]
    }
   ],
   "source": [
    "def lower_text(result):\n",
    "    return result.group(0).lower()\n",
    "\n",
    "negative_sent_lower = []\n",
    "positive_sent_lower = []\n",
    "\n",
    "for tweet in negative_sent:\n",
    "    new_text = re.sub(\"[A-Z]\", lower_text, tweet[2])\n",
    "    negative_sent_lower.append(new_text)\n",
    "\n",
    "for tweet in positive_sent:\n",
    "    new_text = re.sub(\"[A-Z]\", lower_text, tweet[2])\n",
    "    positive_sent_lower.append(new_text)\n",
    "\n",
    "\n",
    "\n",
    "reg_exp = r\"((https?|www).+\\w+\\.([\\w])+[^\\s]+)|[@]?\\w+|(\\.+)|[^\\w\\s]\"\n",
    "\n",
    "unique_negative_tokens_after_lowercase = set()\n",
    "unique_positive_tokens_after_lowercase = set()\n",
    "\n",
    "for tweet in negative_sent_lower:\n",
    "    tokens = re.finditer(reg_exp, tweet, re.MULTILINE)\n",
    "    tokens_list = list(tokens)\n",
    "\n",
    "    for match in tokens_list:\n",
    "        unique_negative_tokens_after_lowercase.add(match.group())\n",
    "\n",
    "for tweet in positive_sent_lower:\n",
    "    tokens = re.finditer(reg_exp, tweet, re.MULTILINE)\n",
    "    tokens_list = list(tokens)\n",
    "\n",
    "    for match in tokens_list:\n",
    "        unique_positive_tokens_after_lowercase.add(match.group())\n",
    "\n",
    "print(\"Negatives\")\n",
    "print(\"Unique tokens before lowercase = \", len(unique_negative_tokens))\n",
    "print(\"Unique tokens after lowercase = \", len(unique_negative_tokens_after_lowercase))\n",
    "\n",
    "print(\"Positives\")\n",
    "print(\"Unique tokens before lowercase = \", len(unique_positive_tokens))\n",
    "print(\"Unique tokens after lowercase = \", len(unique_positive_tokens_after_lowercase))\n"
   ]
  },
  {
   "cell_type": "markdown",
   "metadata": {},
   "source": [
    "## Counting and listing all usernames"
   ]
  },
  {
   "cell_type": "code",
   "execution_count": 47,
   "metadata": {},
   "outputs": [
    {
     "name": "stdout",
     "output_type": "stream",
     "text": [
      "Total usernames in negative:  803\n",
      "Total usernames in positive:  1305\n"
     ]
    }
   ],
   "source": [
    "reg_exp = \"[@]\\w+\"\n",
    "\n",
    "total_usernames_in_negative = 0\n",
    "total_usernames_in_positive = 0\n",
    "\n",
    "usernames_in_negative = []\n",
    "usernames_in_positive = []\n",
    "\n",
    "for tweet in negative_sent:\n",
    "    usernames = re.findall(reg_exp, tweet[2])\n",
    "    \n",
    "    if len(usernames) != 0:\n",
    "\n",
    "        total_usernames_in_negative += len(usernames)\n",
    "\n",
    "        for user in usernames:\n",
    "            usernames_in_negative.append(user)\n",
    "\n",
    "\n",
    "for tweet in positive_sent:\n",
    "    usernames = re.findall(reg_exp, tweet[2])\n",
    "    \n",
    "    if len(usernames) != 0:\n",
    "\n",
    "        total_usernames_in_positive += len(usernames)\n",
    "\n",
    "        for user in usernames:\n",
    "            usernames_in_positive.append(user)\n",
    "\n",
    "print(\"Total usernames in negative: \", total_usernames_in_negative)\n",
    "#print(usernames_in_negative)\n",
    "\n",
    "print(\"Total usernames in positive: \",total_usernames_in_positive)\n",
    "#print(usernames_in_positive)"
   ]
  },
  {
   "cell_type": "markdown",
   "metadata": {},
   "source": [
    "## Counting and listing all the URLs"
   ]
  },
  {
   "cell_type": "code",
   "execution_count": 48,
   "metadata": {},
   "outputs": [
    {
     "name": "stdout",
     "output_type": "stream",
     "text": [
      "Total URLs in negative:  60\n",
      "Total URLs in positive:  136\n"
     ]
    }
   ],
   "source": [
    "reg_exp = \"((https?|www[\\.][^\\.\\s])[^\\s]+)\"\n",
    "\n",
    "total_url_in_negative = 0\n",
    "total_url_in_positive = 0\n",
    "\n",
    "urls_in_negative = []\n",
    "urls_in_positive = []\n",
    "\n",
    "for tweet in negative_sent:\n",
    "    urls = re.findall(reg_exp, tweet[2])\n",
    "    \n",
    "    if len(urls) != 0:\n",
    "        total_url_in_negative += len(urls)\n",
    "        for i in urls:\n",
    "            urls_in_negative.append(i[0])\n",
    "\n",
    "for tweet in positive_sent:\n",
    "    urls = re.findall(reg_exp, tweet[2])\n",
    "    \n",
    "    if len(urls) != 0:\n",
    "        total_url_in_positive += len(urls)\n",
    "        for i in urls:\n",
    "            urls_in_positive.append(i[0])\n",
    "\n",
    "print(\"Total URLs in negative: \", total_url_in_negative)\n",
    "#print(urls_in_negative)\n",
    "\n",
    "print(\"Total URLs in positive: \",total_url_in_positive)\n",
    "#print(urls_in_positive)"
   ]
  },
  {
   "cell_type": "markdown",
   "metadata": {},
   "source": [
    "## Number of tweets for each day of week"
   ]
  },
  {
   "cell_type": "code",
   "execution_count": 49,
   "metadata": {},
   "outputs": [
    {
     "name": "stdout",
     "output_type": "stream",
     "text": [
      "For negative tweets\n",
      "{'Mon': 391, 'Tue': 154, 'Wed': 127, 'Thu': 171, 'Fri': 473, 'Sat': 119, 'Sun': 565}\n",
      "For positive tweets\n",
      "{'Mon': 481, 'Tue': 132, 'Wed': 172, 'Thu': 50, 'Fri': 391, 'Sat': 298, 'Sun': 763}\n"
     ]
    }
   ],
   "source": [
    "\n",
    "negative_sent_days = {'Mon':0, 'Tue':0, 'Wed':0, 'Thu':0, 'Fri':0, 'Sat':0, 'Sun':0}\n",
    "positive_sent_days = {'Mon':0, 'Tue':0, 'Wed':0, 'Thu':0, 'Fri':0, 'Sat':0, 'Sun':0}\n",
    "\n",
    "for tweet in negative_sent:\n",
    "\n",
    "    all_matches = re.finditer(\"^Mon|Tue|Wed|Thu|Fri|Sat|Sun\", tweet[1])\n",
    "    for match in list(all_matches):\n",
    "        negative_sent_days[match.group()] += 1\n",
    "\n",
    "for tweet in positive_sent:\n",
    "\n",
    "    all_matches = re.finditer(\"^Mon|Tue|Wed|Thu|Fri|Sat|Sun\", tweet[1])\n",
    "    for match in list(all_matches):\n",
    "        positive_sent_days[match.group()] += 1\n",
    "\n",
    "print(\"For negative tweets\")\n",
    "print(negative_sent_days)\n",
    "\n",
    "print(\"For positive tweets\")\n",
    "print(positive_sent_days)"
   ]
  },
  {
   "cell_type": "markdown",
   "metadata": {},
   "source": [
    "# Part B"
   ]
  },
  {
   "cell_type": "code",
   "execution_count": 53,
   "metadata": {},
   "outputs": [
    {
     "name": "stdout",
     "output_type": "stream",
     "text": [
      "Total number of occurances =  825\n"
     ]
    }
   ],
   "source": [
    "#word = input(\"Enter a word: \")\n",
    "#class_label = input(\"Enter class label: \")\n",
    "\n",
    "word = \"@\"\n",
    "class_label = \"0\"\n",
    "reg_exp = f\"{word}\"\n",
    "\n",
    "sentences_with_words = []\n",
    "tweets_with_words = []\n",
    "number_of_occurances = 0\n",
    "\n",
    "if class_label == \"0\":\n",
    "    for tweet in negative_sent:\n",
    "        match = list(re.finditer(reg_exp, tweet[2]))\n",
    "        \n",
    "        if len(match) > 0:\n",
    "            for elem in match:\n",
    "                number_of_occurances += 1\n",
    "                tweets_with_words.append(tweet[2])\n",
    "\n",
    "    for tweet in negative_sentences:\n",
    "        match = list(re.finditer(reg_exp, tweet))\n",
    "        \n",
    "        if len(match) > 0:\n",
    "            for elem in match:\n",
    "                sentences_with_words.append(tweet)\n",
    "    \n",
    "else:\n",
    "    for tweet in positive_sent:\n",
    "        match = list(re.finditer(reg_exp, tweet[2]))\n",
    "        \n",
    "        if len(match) > 0:\n",
    "            for elem in match:\n",
    "                number_of_occurances += 1\n",
    "                tweets_with_words.append(tweet[2])\n",
    "    for tweet in positive_sentences:\n",
    "        match = list(re.finditer(reg_exp, tweet))\n",
    "        \n",
    "        if len(match) > 0:\n",
    "            for elem in match:\n",
    "                sentences_with_words.append(tweet)\n",
    "    \n",
    "#print(tweets_with_words)\n",
    "#print(sentences_with_words)\n",
    "print(\"Total number of occurances = \" ,number_of_occurances)\n"
   ]
  },
  {
   "cell_type": "code",
   "execution_count": 54,
   "metadata": {},
   "outputs": [
    {
     "name": "stdout",
     "output_type": "stream",
     "text": [
      "Total number of occurances in the beginning =  726\n"
     ]
    }
   ],
   "source": [
    "reg_exp = f\"^{word}\"\n",
    "number_of_occurances_in_start = 0\n",
    "\n",
    "if class_label == \"0\":\n",
    "\n",
    "    for tweet in negative_sentences:\n",
    "        match = list(re.finditer(reg_exp, tweet))\n",
    "        \n",
    "        if len(match) > 0:\n",
    "            for elem in match:\n",
    "                number_of_occurances_in_start += 1\n",
    "\n",
    "else:\n",
    "\n",
    "    for tweet in positive_sentences:\n",
    "        match = list(re.finditer(reg_exp, tweet))\n",
    "        \n",
    "        if len(match) > 0:\n",
    "            for elem in match:\n",
    "                number_of_occurances_in_start += 1\n",
    "                \n",
    "print(\"Total number of occurances in the beginning = \" ,number_of_occurances_in_start)"
   ]
  },
  {
   "cell_type": "code",
   "execution_count": 55,
   "metadata": {},
   "outputs": [
    {
     "name": "stdout",
     "output_type": "stream",
     "text": [
      "Total number of occurances in the beginning =  0\n"
     ]
    }
   ],
   "source": [
    "reg_exp = f\"{word}$\"\n",
    "number_of_occurances_in_end = 0\n",
    "\n",
    "if class_label == \"0\":\n",
    "\n",
    "    for tweet in negative_sentences:\n",
    "        match = list(re.finditer(reg_exp, tweet))\n",
    "        \n",
    "        if len(match) > 0:\n",
    "            for elem in match:\n",
    "                number_of_occurances_in_end += 1\n",
    "\n",
    "else:\n",
    "\n",
    "    for tweet in positive_sentences:\n",
    "        match = list(re.finditer(reg_exp, tweet))\n",
    "        \n",
    "        if len(match) > 0:\n",
    "            for elem in match:\n",
    "                number_of_occurances_in_end += 1\n",
    "                \n",
    "print(\"Total number of occurances in the beginning = \" ,number_of_occurances_in_end)"
   ]
  }
 ],
 "metadata": {
  "kernelspec": {
   "display_name": "Python 3.10.1 ('env': venv)",
   "language": "python",
   "name": "python3"
  },
  "language_info": {
   "codemirror_mode": {
    "name": "ipython",
    "version": 3
   },
   "file_extension": ".py",
   "mimetype": "text/x-python",
   "name": "python",
   "nbconvert_exporter": "python",
   "pygments_lexer": "ipython3",
   "version": "3.10.1"
  },
  "orig_nbformat": 4,
  "vscode": {
   "interpreter": {
    "hash": "d67b38e366ca74dac447d11a031a36b4e680cd6b313aec980c02ee663b193322"
   }
  }
 },
 "nbformat": 4,
 "nbformat_minor": 2
}
