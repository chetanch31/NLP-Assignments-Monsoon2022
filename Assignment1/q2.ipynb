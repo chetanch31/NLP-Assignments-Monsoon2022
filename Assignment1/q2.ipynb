{
 "cells": [
  {
   "cell_type": "code",
   "execution_count": 83,
   "metadata": {},
   "outputs": [],
   "source": [
    "import csv\n",
    "import re\n",
    "\n",
    "with open(\"A1_dataset.csv\", encoding=\"utf8\", newline='') as file:\n",
    "    data = csv.reader(file)\n",
    "    next(data)\n",
    "    data_list = list(data)\n",
    "    \n",
    "negative_sent = []\n",
    "positive_sent = []\n",
    "\n",
    "for line in data_list:\n",
    "    if line[0][0] == \"0\":\n",
    "        negative_sent.append(line)\n",
    "\n",
    "    else:\n",
    "        positive_sent.append(line)"
   ]
  },
  {
   "cell_type": "markdown",
   "metadata": {},
   "source": [
    "### SPACE"
   ]
  },
  {
   "cell_type": "code",
   "execution_count": 84,
   "metadata": {},
   "outputs": [],
   "source": [
    "# txt = \"heya  j jdbid sjk c  c\"\n",
    "reg_exp = \"\\s\\s+\"\n",
    "negative_pre = []\n",
    "positive_pre = []\n",
    "\n",
    "for i in range(len(negative_sent)):\n",
    "    x = re.sub(reg_exp, \" \", negative_sent[i][2] )\n",
    "    #TODO remove this\n",
    "    x = x.lower()\n",
    "    negative_pre.append([negative_sent[i][0],negative_sent[i][1], x])\n",
    "    # print(negative_pre[i][2])\n",
    "    \n",
    "\n",
    "# print(negative_pre)\n",
    "# x = re.sub(\"\\s\\s+\", \" \", txt )"
   ]
  },
  {
   "cell_type": "markdown",
   "metadata": {},
   "source": [
    "### URLs"
   ]
  },
  {
   "cell_type": "code",
   "execution_count": 85,
   "metadata": {},
   "outputs": [],
   "source": [
    "reg_exp = \"((https?|www[\\.][^\\.\\s])[^\\s]+)\"\n",
    "# txt = \"Output http://bit.ly/AEbs3 \"\n",
    "\n",
    "# x = re.sub(reg_exp, \"AAAAAAA\", txt)\n",
    "# print(x)\n",
    "\n",
    "\n",
    "for i in range(len(negative_sent)): #Remove URLs\n",
    "    x = re.sub(reg_exp, \"\", negative_pre[i][2])\n",
    "    negative_pre[i][2] = x\n",
    "    # print(negative_pre[i][2])\n",
    "\n",
    "# # tokens = re.findall(reg_exp, )\n"
   ]
  },
  {
   "cell_type": "markdown",
   "metadata": {},
   "source": [
    "### Usernames"
   ]
  },
  {
   "cell_type": "code",
   "execution_count": 86,
   "metadata": {},
   "outputs": [],
   "source": [
    "reg_exp = \"[@]\\w+\"\n",
    "# txt = \"Output http://bit.ly/AEbs3 \"\n",
    "\n",
    "# x = re.sub(reg_exp, \"AAAAAAA\", txt)\n",
    "# print(x)\n",
    "\n",
    "\n",
    "for i in range(len(negative_sent)): #Remove Usernames\n",
    "    x = re.sub(reg_exp, \"\", negative_pre[i][2])\n",
    "    negative_pre[i][2] = x\n",
    "    # print(negative_pre[i][2])"
   ]
  },
  {
   "cell_type": "markdown",
   "metadata": {},
   "source": [
    "### Punctuations and Special Characters"
   ]
  },
  {
   "cell_type": "code",
   "execution_count": 87,
   "metadata": {},
   "outputs": [],
   "source": [
    "reg_exp = \"&quot|&gt|&amp|&lt\"\n",
    "\n",
    "for i in range(len(negative_sent)): \n",
    "    x = re.sub(reg_exp, \"\", negative_pre[i][2])\n",
    "    negative_pre[i][2] = x\n",
    "    # print(negative_pre[i][2])"
   ]
  },
  {
   "cell_type": "code",
   "execution_count": 88,
   "metadata": {},
   "outputs": [],
   "source": [
    "reg_exp = \"[^a-zA-Z0-9\\s]\"\n",
    "\n",
    "for i in range(len(negative_sent)): \n",
    "    x = re.sub(reg_exp, \" \", negative_pre[i][2])\n",
    "    negative_pre[i][2] = x\n",
    "    # print(negative_pre[i][2])"
   ]
  },
  {
   "cell_type": "code",
   "execution_count": 89,
   "metadata": {},
   "outputs": [],
   "source": [
    "reg_exp = r\"\\b\\w*\\d\\w*\\b\"\n",
    "\n",
    "for i in range(len(negative_sent)): \n",
    "    x = re.sub(reg_exp, \" \", negative_pre[i][2])\n",
    "    negative_pre[i][2] = x\n",
    "    # print(negative_pre[i][2])\n",
    "    "
   ]
  },
  {
   "cell_type": "code",
   "execution_count": 90,
   "metadata": {},
   "outputs": [],
   "source": [
    "import nltk\n",
    "\n",
    "from nltk.corpus import stopwords\n",
    "\n",
    "stop_words = list(stopwords.words('english'))\n",
    "extra_stop_words = [\"u\",\"ur\",\"uk\",\"yeah\",\"yea\",\"x\",\"xxx\",\"l\"]\n",
    "\n",
    "stop_words = stop_words + extra_stop_words\n",
    "# print(stop_words)\n",
    "# stop_words_string = \"|\".join(stop_words)\n",
    "# print(stop_words_string)"
   ]
  },
  {
   "cell_type": "code",
   "execution_count": 91,
   "metadata": {},
   "outputs": [],
   "source": [
    "# reg_exp = new regExp'\\b('+ stop_words_string + ')\\b'\n",
    "\n",
    "\n",
    "reg_exp = r\"\\b(\" + r\"|\".join(stop_words) + r\")\\b\"\n",
    "# re.findall(prep_re, paragraph, re.IGNORECASE)\n",
    "\n",
    "# print(reg_exp)\n",
    "for i in range(len(negative_sent)): \n",
    "    x = re.sub(reg_exp, \" \", negative_pre[i][2])\n",
    "    negative_pre[i][2] = x\n",
    "    # print(x)"
   ]
  },
  {
   "cell_type": "code",
   "execution_count": null,
   "metadata": {},
   "outputs": [],
   "source": [
    "reg_exp = \"\\s\\s+\"\n",
    "\n",
    "# print(reg_exp)\n",
    "for i in range(len(negative_sent)): \n",
    "    x = re.sub(reg_exp, \" \", negative_pre[i][2])\n",
    "    negative_pre[i][2] = x\n",
    "    print(x)"
   ]
  }
 ],
 "metadata": {
  "kernelspec": {
   "display_name": "Python 3.9.5 64-bit",
   "language": "python",
   "name": "python3"
  },
  "language_info": {
   "codemirror_mode": {
    "name": "ipython",
    "version": 3
   },
   "file_extension": ".py",
   "mimetype": "text/x-python",
   "name": "python",
   "nbconvert_exporter": "python",
   "pygments_lexer": "ipython3",
   "version": "3.9.5"
  },
  "orig_nbformat": 4,
  "vscode": {
   "interpreter": {
    "hash": "cbab7ad93b4c816b81ea2fcadccb708733fafe3d4de9be705110c0acce2d8094"
   }
  }
 },
 "nbformat": 4,
 "nbformat_minor": 2
}
