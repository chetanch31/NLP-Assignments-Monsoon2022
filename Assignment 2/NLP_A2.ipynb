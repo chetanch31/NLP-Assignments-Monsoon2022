{
 "cells": [
  {
   "cell_type": "code",
   "execution_count": 23,
   "metadata": {},
   "outputs": [
    {
     "name": "stderr",
     "output_type": "stream",
     "text": [
      "[nltk_data] Downloading package words to\n",
      "[nltk_data]     C:\\Users\\charv\\AppData\\Roaming\\nltk_data...\n",
      "[nltk_data]   Package words is already up-to-date!\n"
     ]
    }
   ],
   "source": [
    "import csv\n",
    "import re\n",
    "import nltk\n",
    "import numpy as np\n",
    "from nltk.corpus import stopwords\n",
    "from nltk.metrics.distance import jaccard_distance\n",
    "from nltk.util import ngrams\n",
    "nltk.download('words')\n",
    "from nltk.corpus import words\n",
    "from nltk.corpus import wordnet\n",
    "from nltk.stem.wordnet import WordNetLemmatizer\n",
    "\n",
    "\n",
    "with open(\"A1_dataset.csv\", encoding=\"utf8\", newline='') as file:\n",
    "    data = csv.reader(file)\n",
    "    next(data)\n",
    "    data_list = list(data)\n",
    "    \n",
    "data_pre = []\n",
    "\n",
    "for line in data_list:\n",
    "    data_pre.append([line[0],line[1],line[2].lower()])\n",
    "\n",
    "\n",
    "reg_exp = \"((https?|www[\\.][^\\.\\s])[^\\s]+)\" #Remove URLs\n",
    "reg_exp1 = \"[@]\\w+\"     #Remove Usernames\n",
    "reg_exp2 = \"&quot|&gt|&amp|&lt\"  #Remove Special Words\n",
    "reg_exp3= \"[^a-zA-Z0-9\\s]\"  #Remove Special Characters\n",
    "reg_exp4 = r\"\\b\\w*\\d\\w*\\b\"  #Remove Numbers and Words Containing Numbers\n",
    "\n",
    "#Remove Stopwords\n",
    "stop_words = list(stopwords.words('english'))\n",
    "extra_stop_words = [\"u\",\"ur\",\"uk\",\"go\",\"x\",\"xxx\",\"l\",\"r\",\"b\",\"c\",\"d\",\"e\",\"f\",\"g\",\"h\",\"j\",\"k\",\"m\",\"n\",\"o\",\"p\",\"q\",\"v\",\"w\",\"y\",\"z\",\"im\",\"imi\"]\n",
    "stop_words = stop_words + extra_stop_words\n",
    "reg_exp5 = r\"\\b(\" + r\"|\".join(stop_words) + r\")\\b\"\n",
    "\n",
    "reg_exp6 = \"\\s\\s+\"  #Remove Space\n",
    "\n",
    "for i in range(len(data_pre)): \n",
    "    x = re.sub(reg_exp, \"\", data_pre[i][2])\n",
    "    x = re.sub(reg_exp1, \"\", x)\n",
    "    x = re.sub(reg_exp2, \"\", x)\n",
    "    x = re.sub(reg_exp3, \"\", x)\n",
    "    x = re.sub(reg_exp4, \"\", x)\n",
    "    x = re.sub(reg_exp5, \"\", x)\n",
    "    x = re.sub(reg_exp6, \" \", x)\n",
    "    y = x.split()   #Tokenisation\n",
    "    data_pre[i][2] = y\n",
    "        \n",
    "#Spelling Correction\n",
    "correct_words = words.words()\n",
    "\n",
    "for i in range(len(data_pre)):\n",
    "    for j in range(len(data_pre[i][2])):\n",
    "        word = data_pre[i][2][j]\n",
    "        temp = [(jaccard_distance(set(ngrams(word, 2)),set(ngrams(w, 2))),w)\n",
    "                for w in correct_words if w[0]==word[0]]\n",
    "        # print(sorted(temp, key = lambda val:val[0])[0][1])\n",
    "        data_pre[i][2][j] = sorted(temp, key = lambda val:val[0])[0][1]\n",
    "\n",
    "#Lemmatization\n",
    "lem = WordNetLemmatizer()\n",
    "\n",
    "for i in range(len(data_pre)):\n",
    "    for j in range(len(data_pre[i][2])):\n",
    "        word = data_pre[i][2][j]\n",
    "        word = lem.lemmatize(word, wordnet.VERB)\n",
    "        data_pre[i][2][j] = word\n",
    "        # print(word) \n",
    "     \n",
    "\n",
    "#Forming sentences\n",
    "for i in range(len(data_pre)):\n",
    "    data_pre[i][2] = \" \".join(data_pre[i][2])\n",
    "\n",
    "# print(data_pre)\n",
    "\n",
    "# fields = [\"LABEL\",\"DATE_TIME\",\"TEXT\"]\n",
    "# with open('Negative_Preprocessed.csv', 'w') as f:\n",
    "      \n",
    "#     # using csv.writer method from CSV package\n",
    "#     write = csv.writer(f)\n",
    "      \n",
    "#     write.writerow(fields)\n",
    "#     write.writerows(data_pre)\n",
    "\n",
    "np.savetxt(\"Preprocessed.csv\", data_pre, delimiter =\",\", fmt ='% s')\n",
    "\n"
   ]
  }
 ],
 "metadata": {
  "kernelspec": {
   "display_name": "Python 3.9.5 64-bit",
   "language": "python",
   "name": "python3"
  },
  "language_info": {
   "codemirror_mode": {
    "name": "ipython",
    "version": 3
   },
   "file_extension": ".py",
   "mimetype": "text/x-python",
   "name": "python",
   "nbconvert_exporter": "python",
   "pygments_lexer": "ipython3",
   "version": "3.9.5"
  },
  "orig_nbformat": 4,
  "vscode": {
   "interpreter": {
    "hash": "cbab7ad93b4c816b81ea2fcadccb708733fafe3d4de9be705110c0acce2d8094"
   }
  }
 },
 "nbformat": 4,
 "nbformat_minor": 2
}
