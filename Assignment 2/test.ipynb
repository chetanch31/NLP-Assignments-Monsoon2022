{
 "cells": [
  {
   "cell_type": "code",
   "execution_count": 1,
   "metadata": {},
   "outputs": [],
   "source": [
    "from vaderSentiment.vaderSentiment import SentimentIntensityAnalyzer\n",
    "\n",
    "# final_list_negative = []\n",
    "# final_list_positive = []\n",
    "negative_pre = [\"good\", \"work\", \"day\", \"go\",\"bad\",\"work day go bad good\"]\n",
    "sentiment_analyzer_object = SentimentIntensityAnalyzer()\n",
    "    \n",
    "for i in (negative_pre):\n",
    "    # curr_sent = \" \".join(negative_pre[i][2])\n",
    "\n",
    "    sentiment = sentiment_analyzer_object.polarity_scores(i)\n",
    "    # print(sentiment)\n",
    "    # if sentiment['compound'] >= 0.05:\n",
    "    #     # negative_pre[i].append(\"1\")\n",
    "    #     print()\n",
    "    # elif sentiment['compound'] <= -0.05:\n",
    "    #     negative_pre[i].append(\"0\")\n",
    "    # else:\n",
    "    #     negative_pre[i].append(\"2\")\n",
    "\n",
    "# for i in range(len(positive_pre)):\n",
    "#     curr_sent = \" \".join(positive_pre[i][2])\n",
    "\n",
    "#     sentiment = sentiment_analyzer_object.polarity_scores(curr_sent)\n",
    "\n",
    "#     if sentiment['compound'] >= 0.05:\n",
    "#         positive_pre[i].append(\"1\")\n",
    "#     elif sentiment['compound'] <= -0.05:\n",
    "#         positive_pre[i].append(\"0\")\n",
    "#     else:\n",
    "#         positive_pre[i].append(\"2\")\n",
    "\n",
    "# for i in range(len(data_list)):\n",
    "#     curr_sent = data_list[i][2]\n",
    "\n",
    "#     sentiment = sentiment_analyzer_object.polarity_scores(curr_sent)\n",
    "\n",
    "#     if sentiment['compound'] >= 0.05:\n",
    "#         data_list[i].append(\"1\")\n",
    "#     elif sentiment['compound'] <= -0.05:\n",
    "#         data_list[i].append(\"0\")\n",
    "#     else:\n",
    "#         data_list[i].append(\"2\")\n",
    "        \n",
    "# print(negative_pre)"
   ]
  },
  {
   "cell_type": "code",
   "execution_count": null,
   "metadata": {},
   "outputs": [],
   "source": [
    "# PART 1.a is bigram_probability_matrix\n",
    "\n",
    "# PART 1.b\n",
    "\n",
    "# tweets = []\n",
    "vocabulary2 = set()\n",
    "\n",
    "with open(\"Preprocessed_test.csv\", encoding=\"utf8\") as file:\n",
    "    data = csv.reader(file)\n",
    "    data_list = list(data)\n",
    "\n",
    "    for tweet in data_list:\n",
    "\n",
    "        sentence = tweet[2]\n",
    "        # tweets.append(sentence)\n",
    "        s = sentence.split()\n",
    "        for i in s:\n",
    "            if(i not in vocabulary):\n",
    "                vocabulary2.add(i)\n",
    "\n",
    "print(vocabulary2)\n",
    "\n"
   ]
  },
  {
   "cell_type": "code",
   "execution_count": null,
   "metadata": {},
   "outputs": [],
   "source": [
    "# save 500 generated sentences and their labels in csv\n",
    "np.savetxt(\"generated_sentences.csv\", generated_samples, delimiter =\",\", fmt ='% s')"
   ]
  },
  {
   "cell_type": "code",
   "execution_count": null,
   "metadata": {},
   "outputs": [],
   "source": [
    "# perpexility of generated 500 sentences\n",
    "total_generated_perplexity = 0\n",
    "\n",
    "for i in random_sentence_list:\n",
    "    total_generated_perplexity += perplexity_calculator(i)\n",
    "\n",
    "avg_generated_perplexity = total_generated_perplexity/len(random_sentence_list)\n",
    "print(avg_generated_perplexity)"
   ]
  },
  {
   "cell_type": "code",
   "execution_count": null,
   "metadata": {},
   "outputs": [],
   "source": [
    "generated_positives = []\n",
    "generated_negatives = []\n",
    "\n",
    "for i in generated_samples:\n",
    "    if i[0] == 1:\n",
    "        generated_positives.append(i[1])\n",
    "    \n",
    "    if len(generated_positives) == 5 : break\n",
    "\n",
    "for i in generated_samples:\n",
    "    if i[0] == 0:\n",
    "        generated_negatives.append(i[1])\n",
    "\n",
    "    if len(generated_negatives) == 5 : break\n",
    "\n",
    "print(\"Positives: \")\n",
    "print(generated_positives)\n",
    "\n",
    "print(\"Negatives: \")\n",
    "print(generated_negatives)\n"
   ]
  }
 ],
 "metadata": {
  "kernelspec": {
   "display_name": "Python 3.10.1 ('env': venv)",
   "language": "python",
   "name": "python3"
  },
  "language_info": {
   "codemirror_mode": {
    "name": "ipython",
    "version": 3
   },
   "file_extension": ".py",
   "mimetype": "text/x-python",
   "name": "python",
   "nbconvert_exporter": "python",
   "pygments_lexer": "ipython3",
   "version": "3.10.1"
  },
  "orig_nbformat": 4,
  "vscode": {
   "interpreter": {
    "hash": "d67b38e366ca74dac447d11a031a36b4e680cd6b313aec980c02ee663b193322"
   }
  }
 },
 "nbformat": 4,
 "nbformat_minor": 2
}
