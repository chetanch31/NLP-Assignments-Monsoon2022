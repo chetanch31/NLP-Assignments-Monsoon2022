{
 "cells": [
  {
   "cell_type": "code",
   "execution_count": 5,
   "metadata": {},
   "outputs": [
    {
     "name": "stdout",
     "output_type": "stream",
     "text": [
      "{'neg': 0.0, 'neu': 0.0, 'pos': 1.0, 'compound': 0.4404}\n",
      "{'neg': 0.0, 'neu': 1.0, 'pos': 0.0, 'compound': 0.0}\n",
      "{'neg': 0.0, 'neu': 1.0, 'pos': 0.0, 'compound': 0.0}\n",
      "{'neg': 0.0, 'neu': 1.0, 'pos': 0.0, 'compound': 0.0}\n",
      "{'neg': 1.0, 'neu': 0.0, 'pos': 0.0, 'compound': -0.5423}\n",
      "{'neg': 0.372, 'neu': 0.319, 'pos': 0.309, 'compound': -0.1531}\n"
     ]
    }
   ],
   "source": [
    "from vaderSentiment.vaderSentiment import SentimentIntensityAnalyzer\n",
    "\n",
    "# final_list_negative = []\n",
    "# final_list_positive = []\n",
    "negative_pre = [\"good\", \"work\", \"day\", \"go\",\"bad\",\"work day go bad good\"]\n",
    "sentiment_analyzer_object = SentimentIntensityAnalyzer()\n",
    "    \n",
    "for i in (negative_pre):\n",
    "    # curr_sent = \" \".join(negative_pre[i][2])\n",
    "\n",
    "    sentiment = sentiment_analyzer_object.polarity_scores(i)\n",
    "    print(sentiment)\n",
    "    # if sentiment['compound'] >= 0.05:\n",
    "    #     # negative_pre[i].append(\"1\")\n",
    "    #     print()\n",
    "    # elif sentiment['compound'] <= -0.05:\n",
    "    #     negative_pre[i].append(\"0\")\n",
    "    # else:\n",
    "    #     negative_pre[i].append(\"2\")\n",
    "\n",
    "# for i in range(len(positive_pre)):\n",
    "#     curr_sent = \" \".join(positive_pre[i][2])\n",
    "\n",
    "#     sentiment = sentiment_analyzer_object.polarity_scores(curr_sent)\n",
    "\n",
    "#     if sentiment['compound'] >= 0.05:\n",
    "#         positive_pre[i].append(\"1\")\n",
    "#     elif sentiment['compound'] <= -0.05:\n",
    "#         positive_pre[i].append(\"0\")\n",
    "#     else:\n",
    "#         positive_pre[i].append(\"2\")\n",
    "\n",
    "# for i in range(len(data_list)):\n",
    "#     curr_sent = data_list[i][2]\n",
    "\n",
    "#     sentiment = sentiment_analyzer_object.polarity_scores(curr_sent)\n",
    "\n",
    "#     if sentiment['compound'] >= 0.05:\n",
    "#         data_list[i].append(\"1\")\n",
    "#     elif sentiment['compound'] <= -0.05:\n",
    "#         data_list[i].append(\"0\")\n",
    "#     else:\n",
    "#         data_list[i].append(\"2\")\n",
    "        \n",
    "# print(negative_pre)"
   ]
  }
 ],
 "metadata": {
  "kernelspec": {
   "display_name": "Python 3.9.5 64-bit",
   "language": "python",
   "name": "python3"
  },
  "language_info": {
   "codemirror_mode": {
    "name": "ipython",
    "version": 3
   },
   "file_extension": ".py",
   "mimetype": "text/x-python",
   "name": "python",
   "nbconvert_exporter": "python",
   "pygments_lexer": "ipython3",
   "version": "3.9.5"
  },
  "orig_nbformat": 4,
  "vscode": {
   "interpreter": {
    "hash": "cbab7ad93b4c816b81ea2fcadccb708733fafe3d4de9be705110c0acce2d8094"
   }
  }
 },
 "nbformat": 4,
 "nbformat_minor": 2
}
