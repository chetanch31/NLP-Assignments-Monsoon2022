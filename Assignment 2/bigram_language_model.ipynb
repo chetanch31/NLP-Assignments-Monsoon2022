{
 "cells": [
  {
   "cell_type": "code",
   "execution_count": 7,
   "metadata": {},
   "outputs": [],
   "source": [
    "import csv\n",
    "import numpy as np"
   ]
  },
  {
   "cell_type": "code",
   "execution_count": 8,
   "metadata": {},
   "outputs": [
    {
     "name": "stdout",
     "output_type": "stream",
     "text": [
      "4287\n"
     ]
    }
   ],
   "source": [
    "tweets = []\n",
    "vocabulary = set()\n",
    "\n",
    "with open(\"Preprocessed.csv\", encoding=\"utf8\") as file:\n",
    "    data = csv.reader(file)\n",
    "    data_list = list(data)\n",
    "\n",
    "    for tweet in data_list:\n",
    "\n",
    "        sentence = tweet[2]\n",
    "        tweets.append(sentence)\n",
    "\n",
    "print(len(tweets))\n"
   ]
  },
  {
   "cell_type": "code",
   "execution_count": 9,
   "metadata": {},
   "outputs": [
    {
     "name": "stdout",
     "output_type": "stream",
     "text": [
      "24848\n",
      "22069\n",
      "5199\n",
      "5199\n"
     ]
    }
   ],
   "source": [
    "bigram_list = []\n",
    "bigram_count = {}\n",
    "word_count = {}\n",
    "\n",
    "for tweet in tweets:\n",
    "\n",
    "    tokenized_tweet = tweet.split()\n",
    "\n",
    "    for i in range(len(tokenized_tweet)-1):\n",
    "        bigram = (tokenized_tweet[i], tokenized_tweet[i+1])\n",
    "        bigram_list.append(bigram)\n",
    "\n",
    "        if bigram in bigram_count:\n",
    "            bigram_count[bigram] += 1\n",
    "        else:\n",
    "            bigram_count[bigram] = 1\n",
    "        \n",
    "        if tokenized_tweet[i] in word_count:\n",
    "            word_count[tokenized_tweet[i]] += 1\n",
    "        else:\n",
    "            word_count[tokenized_tweet[i]] = 1\n",
    "    \n",
    "        vocabulary.add(tokenized_tweet[i])\n",
    "        \n",
    "print(len(bigram_list))\n",
    "print(len(bigram_count))\n",
    "print(len(word_count))\n",
    "print(len(vocabulary))"
   ]
  },
  {
   "cell_type": "code",
   "execution_count": 10,
   "metadata": {},
   "outputs": [],
   "source": [
    "bigram_probability_matrix = np.zeros((len(vocabulary), len(vocabulary)))\n",
    "\n",
    "vocabulary_list = list(vocabulary)\n",
    "\n",
    "for row in range(len(vocabulary_list)):\n",
    "    for column in range(len(vocabulary_list)):\n",
    "\n",
    "        current_bigram = (vocabulary_list[row], vocabulary_list[column])\n",
    "        current_bigram_count = 0\n",
    "\n",
    "        if current_bigram in bigram_count:\n",
    "            current_bigram_count = bigram_count[current_bigram]\n",
    "            \n",
    "        bigram_probability_matrix[row, column] = (current_bigram_count + 1) / (word_count[vocabulary_list[row]] + len(vocabulary))"
   ]
  },
  {
   "cell_type": "code",
   "execution_count": null,
   "metadata": {},
   "outputs": [],
   "source": [
    "# with np.printoptions(threshold=np.inf):\n",
    "# np.savetxt(\"Matrix.csv\", bigram_probability_matrix, delimiter =\",\", fmt ='% s')\n",
    "# print(bigram_probability_matrix)"
   ]
  },
  {
   "cell_type": "code",
   "execution_count": null,
   "metadata": {},
   "outputs": [],
   "source": [
    "from vaderSentiment.vaderSentiment import SentimentIntensityAnalyzer\n",
    "import math\n",
    "sentiment_analyzer_object = SentimentIntensityAnalyzer()\n",
    "\n",
    "# vocab_sentiment = {}\n",
    "bigram_sentiment = np.zeros((len(vocabulary), len(vocabulary)))\n",
    "\n",
    "# vocabulary_list = list(vocabulary)\n",
    "# print(vocabulary_list)\n",
    "\n",
    "for row in range(len(vocabulary_list)):\n",
    "    for column in range(len(vocabulary_list)):\n",
    "        bigram = vocabulary_list[row] + \" \" + vocabulary_list[column]\n",
    "        sentiment = sentiment_analyzer_object.polarity_scores(bigram)\n",
    "        bigram_sentiment[row,column] = 4 + (math.log10(bigram_probability_matrix[row, column])) + (abs(sentiment['compound'])*10)\n",
    "    \n",
    "np.savetxt(\"Matrix.csv\", bigram_sentiment, delimiter =\",\", fmt ='% s')"
   ]
  }
 ],
 "metadata": {
  "kernelspec": {
   "display_name": "Python 3.9.5 64-bit",
   "language": "python",
   "name": "python3"
  },
  "language_info": {
   "codemirror_mode": {
    "name": "ipython",
    "version": 3
   },
   "file_extension": ".py",
   "mimetype": "text/x-python",
   "name": "python",
   "nbconvert_exporter": "python",
   "pygments_lexer": "ipython3",
   "version": "3.9.5"
  },
  "orig_nbformat": 4,
  "vscode": {
   "interpreter": {
    "hash": "cbab7ad93b4c816b81ea2fcadccb708733fafe3d4de9be705110c0acce2d8094"
   }
  }
 },
 "nbformat": 4,
 "nbformat_minor": 2
}
