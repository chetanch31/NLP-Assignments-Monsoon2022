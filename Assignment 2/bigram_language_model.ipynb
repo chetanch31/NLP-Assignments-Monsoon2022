{
 "cells": [
  {
   "cell_type": "code",
   "execution_count": 12,
   "metadata": {},
   "outputs": [],
   "source": [
    "import csv"
   ]
  },
  {
   "cell_type": "code",
   "execution_count": 25,
   "metadata": {},
   "outputs": [
    {
     "name": "stdout",
     "output_type": "stream",
     "text": [
      "37685\n",
      "5738\n"
     ]
    }
   ],
   "source": [
    "word_list = []\n",
    "vocabulary = set()\n",
    "\n",
    "with open(\"Preprocessed.csv\", encoding=\"utf8\") as file:\n",
    "    data = csv.reader(file)\n",
    "    data_list = list(data)\n",
    "\n",
    "    for tweet in data_list:\n",
    "\n",
    "        sentence = \"<start> \" + tweet[2] + \" <end>\"\n",
    "        for word in sentence.split():\n",
    "            word_list.append(word)\n",
    "            vocabulary.add(word)\n",
    "\n",
    "print(len(word_list))\n",
    "print(len(vocabulary))\n"
   ]
  },
  {
   "cell_type": "code",
   "execution_count": 18,
   "metadata": {},
   "outputs": [
    {
     "name": "stdout",
     "output_type": "stream",
     "text": [
      "29110\n",
      "26009\n",
      "5736\n"
     ]
    }
   ],
   "source": [
    "bigram_list = []\n",
    "bigram_count = {}\n",
    "word_count = {}\n",
    "\n",
    "for i in range(len(word_list)-1):\n",
    "    bigram = (word_list[i], word_list[i+1])\n",
    "    bigram_list.append(bigram)\n",
    "\n",
    "    if bigram in bigram_count:\n",
    "        bigram_count[bigram] += 1\n",
    "    else:\n",
    "        bigram_count[bigram] = 1\n",
    "\n",
    "    if word_list[i] in word_count:\n",
    "        word_count[word_list[i]] += 1\n",
    "    else:\n",
    "        word_count[word_list[i]] = 1\n",
    "\n",
    "print(len(bigram_list))\n",
    "print(len(bigram_count))\n",
    "print(len(word_count))"
   ]
  }
 ],
 "metadata": {
  "kernelspec": {
   "display_name": "Python 3.10.1 ('env': venv)",
   "language": "python",
   "name": "python3"
  },
  "language_info": {
   "codemirror_mode": {
    "name": "ipython",
    "version": 3
   },
   "file_extension": ".py",
   "mimetype": "text/x-python",
   "name": "python",
   "nbconvert_exporter": "python",
   "pygments_lexer": "ipython3",
   "version": "3.10.1"
  },
  "orig_nbformat": 4,
  "vscode": {
   "interpreter": {
    "hash": "d67b38e366ca74dac447d11a031a36b4e680cd6b313aec980c02ee663b193322"
   }
  }
 },
 "nbformat": 4,
 "nbformat_minor": 2
}
