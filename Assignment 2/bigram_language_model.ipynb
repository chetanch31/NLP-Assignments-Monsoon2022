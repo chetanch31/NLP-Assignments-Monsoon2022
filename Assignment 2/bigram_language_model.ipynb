{
 "cells": [
  {
   "cell_type": "code",
   "execution_count": 220,
   "metadata": {},
   "outputs": [],
   "source": [
    "import csv\n",
    "import numpy as np"
   ]
  },
  {
   "cell_type": "code",
   "execution_count": 221,
   "metadata": {},
   "outputs": [
    {
     "name": "stdout",
     "output_type": "stream",
     "text": [
      "4287\n"
     ]
    }
   ],
   "source": [
    "tweets = []\n",
    "vocabulary = set()\n",
    "\n",
    "with open(\"Preprocessed.csv\", encoding=\"utf8\") as file:\n",
    "    data = csv.reader(file)\n",
    "    data_list = list(data)\n",
    "\n",
    "    for tweet in data_list:\n",
    "\n",
    "        sentence = tweet[2]\n",
    "        tweets.append(sentence)\n",
    "\n",
    "print(len(tweets))\n"
   ]
  },
  {
   "cell_type": "code",
   "execution_count": 222,
   "metadata": {},
   "outputs": [
    {
     "name": "stdout",
     "output_type": "stream",
     "text": [
      "24848\n",
      "22069\n",
      "5736\n",
      "5736\n"
     ]
    }
   ],
   "source": [
    "bigram_list = []\n",
    "bigram_count = {}\n",
    "word_count = {}\n",
    "\n",
    "for tweet in tweets:\n",
    "\n",
    "    tokenized_tweet = tweet.split()\n",
    "\n",
    "    for i in range(len(tokenized_tweet)):\n",
    "        \n",
    "        if(i<len(tokenized_tweet)-1):\n",
    "            bigram = (tokenized_tweet[i], tokenized_tweet[i+1])\n",
    "            bigram_list.append(bigram)\n",
    "\n",
    "            if bigram in bigram_count:\n",
    "                bigram_count[bigram] += 1\n",
    "            else:\n",
    "                bigram_count[bigram] = 1\n",
    "        \n",
    "        if tokenized_tweet[i] in word_count:\n",
    "            word_count[tokenized_tweet[i]] += 1\n",
    "        else:\n",
    "            word_count[tokenized_tweet[i]] = 1\n",
    "    \n",
    "        vocabulary.add(tokenized_tweet[i])\n",
    "        # vocabulary.add(tokenized_tweet[i+1])\n",
    "        \n",
    "print(len(bigram_list))\n",
    "print(len(bigram_count))\n",
    "print(len(word_count))\n",
    "print(len(vocabulary))"
   ]
  },
  {
   "cell_type": "code",
   "execution_count": 223,
   "metadata": {},
   "outputs": [],
   "source": [
    "unigram_probability_matrix = {}\n",
    "total_words_in_vocab = len(vocabulary)\n",
    "\n",
    "for i in word_count:\n",
    "    unigram_probability_matrix[i] = word_count[i]/total_words_in_vocab\n"
   ]
  },
  {
   "cell_type": "code",
   "execution_count": 224,
   "metadata": {},
   "outputs": [],
   "source": [
    "bigram_probability_matrix = np.zeros((len(vocabulary), len(vocabulary)))\n",
    "\n",
    "vocabulary_list = list(vocabulary)\n",
    "\n",
    "for row in range(len(vocabulary_list)):\n",
    "    for column in range(len(vocabulary_list)):\n",
    "\n",
    "        current_bigram = (vocabulary_list[row], vocabulary_list[column])\n",
    "        current_bigram_count = 0\n",
    "\n",
    "        if current_bigram in bigram_count:\n",
    "            current_bigram_count = bigram_count[current_bigram]\n",
    "            \n",
    "        bigram_probability_matrix[row, column] = (current_bigram_count + 1) / (word_count[vocabulary_list[row]] + len(vocabulary))"
   ]
  },
  {
   "cell_type": "code",
   "execution_count": 225,
   "metadata": {},
   "outputs": [],
   "source": [
    "# with np.printoptions(threshold=np.inf):\n",
    "# np.savetxt(\"Matrix.csv\", bigram_probability_matrix, delimiter =\",\", fmt ='% s')\n",
    "# print(bigram_probability_matrix)"
   ]
  },
  {
   "cell_type": "code",
   "execution_count": 226,
   "metadata": {},
   "outputs": [],
   "source": [
    "from vaderSentiment.vaderSentiment import SentimentIntensityAnalyzer\n",
    "import math\n",
    "sentiment_analyzer_object = SentimentIntensityAnalyzer()\n",
    "\n",
    "# # vocab_sentiment = {}\n",
    "# bigram_sentiment = np.zeros((len(vocabulary), len(vocabulary)))\n",
    "\n",
    "# # vocabulary_list = list(vocabulary)\n",
    "# # print(vocabulary_list)\n",
    "\n",
    "# for row in range(len(vocabulary_list)):\n",
    "#     for column in range(len(vocabulary_list)):\n",
    "#         bigram = vocabulary_list[row] + \" \" + vocabulary_list[column]\n",
    "#         sentiment = sentiment_analyzer_object.polarity_scores(bigram)\n",
    "#         bigram_sentiment[row,column] = 4 + (math.log10(bigram_probability_matrix[row, column])) + (abs(sentiment['compound'])*10)\n",
    "        \n",
    "\n",
    "\n",
    "     \n",
    "# np.savetxt(\"Matrix.csv\", bigram_sentiment, delimiter =\",\", fmt ='% s')"
   ]
  },
  {
   "cell_type": "code",
   "execution_count": 227,
   "metadata": {},
   "outputs": [],
   "source": [
    "unigram_sentiment = {}\n",
    "\n",
    "# vocabulary_list = list(vocabulary)\n",
    "# print(vocabulary_list)\n",
    "\n",
    "for i in range(len(vocabulary_list)):\n",
    "     sentiment = sentiment_analyzer_object.polarity_scores(vocabulary_list[i])\n",
    "     unigram_sentiment[vocabulary_list[i]] = 4 + (math.log10(unigram_probability_matrix[vocabulary_list[i]])) + (abs(sentiment['compound'])*10)\n",
    "     \n",
    "# np.savetxt(\"UniMatrix.csv\", unigram_sentiment, delimiter =\",\", fmt ='% s')\n",
    "# print(unigram_sentiment)"
   ]
  },
  {
   "cell_type": "code",
   "execution_count": null,
   "metadata": {},
   "outputs": [],
   "source": []
  },
  {
   "cell_type": "code",
   "execution_count": 308,
   "metadata": {},
   "outputs": [
    {
     "name": "stdout",
     "output_type": "stream",
     "text": [
      "486\n"
     ]
    }
   ],
   "source": [
    "# import random\n",
    "\n",
    "# random_sentence_list = []\n",
    "# num = 0\n",
    "# while (len(random_sentence_list) != 500):\n",
    "    \n",
    "#     random_word_list = []\n",
    "#     rand = random.randrange(7,15)\n",
    "#     for i in range(rand):\n",
    "#         random_word_list.append(random.randrange(0, len(vocabulary_list)))\n",
    "        \n",
    "#     bigram_score = 1\n",
    "    \n",
    "#     for i in range(len(random_word_list)-1):\n",
    "#         if(i==0):\n",
    "#             bigram_score *= unigram_sentiment[vocabulary_list[random_word_list[i]]]\n",
    "            \n",
    "#         bigram_score *= bigram_sentiment[random_word_list[i], random_word_list[i+1]]\n",
    "        \n",
    "#     if (bigram_score > (pow(0.3,(rand)))):\n",
    "#         final_sentence = []\n",
    "        \n",
    "#         for x in random_word_list:\n",
    "#             final_sentence.append(vocabulary_list[x])\n",
    "        \n",
    "#         sentence = \" \".join(final_sentence)\n",
    "#         sentiment = sentiment_analyzer_object.polarity_scores(sentence)\n",
    "#         random_sentence_list.append(sentence)\n",
    "#         if(sentiment['compound'] >0.05 or sentiment['compound'] <-0.05):\n",
    "#             num+=1\n",
    "# print(num)        \n",
    "# # print(random_sentence_list)\n"
   ]
  },
  {
   "cell_type": "code",
   "execution_count": null,
   "metadata": {},
   "outputs": [],
   "source": []
  },
  {
   "cell_type": "code",
   "execution_count": 309,
   "metadata": {},
   "outputs": [],
   "source": [
    "generated_samples = []\n",
    "\n",
    "for i in random_sentence_list:\n",
    "    sentiment = sentiment_analyzer_object.polarity_scores(i)\n",
    "    if(sentiment['compound'] > 0):\n",
    "        generated_samples.append([1,i])\n",
    "    elif sentiment['compound']<0:\n",
    "        generated_samples.append([0,i])\n",
    "        \n",
    "        \n",
    "# print(generated_samples)"
   ]
  },
  {
   "cell_type": "code",
   "execution_count": 230,
   "metadata": {},
   "outputs": [
    {
     "data": {
      "text/plain": [
       "768.4063039900251"
      ]
     },
     "execution_count": 230,
     "metadata": {},
     "output_type": "execute_result"
    }
   ],
   "source": [
    "def perplexity_calculator(sentence):\n",
    "\n",
    "    final_perplexity = 1\n",
    "\n",
    "    tokenized_sentence = sentence.split()\n",
    "    sentence_length = len(tokenized_sentence)\n",
    "\n",
    "    first_word_base = unigram_probability_matrix[tokenized_sentence[0]]\n",
    "    first_word_power = -(1/sentence_length)\n",
    "\n",
    "\n",
    "    final_perplexity *= pow(first_word_base, first_word_power)\n",
    "\n",
    "    for i in range(sentence_length-1):\n",
    "\n",
    "        word1 = tokenized_sentence[i]\n",
    "        word2 = tokenized_sentence[i+1]\n",
    "\n",
    "        temp_base = (bigram_probability_matrix[(vocabulary_list.index(word1), vocabulary_list.index(word2))])\n",
    "        temp_power = -(1/sentence_length)\n",
    "\n",
    "        final_perplexity *= pow(temp_base, temp_power)\n",
    "\n",
    "\n",
    "    return final_perplexity\n",
    "\n",
    "perplexity_calculator(\"good morning world another mother\")"
   ]
  },
  {
   "cell_type": "code",
   "execution_count": 231,
   "metadata": {},
   "outputs": [
    {
     "name": "stdout",
     "output_type": "stream",
     "text": [
      "5346.296371904309\n"
     ]
    }
   ],
   "source": [
    "total_generated_perplexity = 0\n",
    "\n",
    "for i in random_sentence_list:\n",
    "    total_generated_perplexity += perplexity_calculator(i)\n",
    "\n",
    "avg_generated_perplexity = total_generated_perplexity/len(random_sentence_list)\n",
    "print(avg_generated_perplexity)"
   ]
  },
  {
   "cell_type": "code",
   "execution_count": 235,
   "metadata": {},
   "outputs": [],
   "source": [
    "import sklearn\n",
    "\n",
    "from sklearn.feature_extraction.text import TfidfVectorizer\n",
    "from sklearn.naive_bayes import MultinomialNB\n",
    "from sklearn.pipeline import make_pipeline\n",
    "from sklearn.metrics import accuracy_score\n",
    "\n",
    "def train_and_evaluate(train_sentences, train_labels,test_sentences, test_labels):\n",
    "    '''\n",
    "    parameters:\n",
    "    train_sentences : list of training sentences\n",
    "    train_labels : list of training labels\n",
    "    test_sentences : list of test sentences\n",
    "    test_labels : list of test labels\n",
    "    output:\n",
    "    accuracy : accuracy of the test set\n",
    "    '''\n",
    "    # Model building\n",
    "    model = make_pipeline(TfidfVectorizer(), MultinomialNB())\n",
    "    # Training the model with the training data\n",
    "    model.fit(train_sentences, train_labels)\n",
    "    # Predicting the test data categories\n",
    "    predicted_test_labels = model.predict(test_sentences)\n",
    "    return accuracy_score(test_labels, predicted_test_labels)"
   ]
  },
  {
   "cell_type": "markdown",
   "metadata": {},
   "source": [
    "## DESIRED OUTCOMES\n",
    "\n",
    "### PART A"
   ]
  },
  {
   "cell_type": "code",
   "execution_count": 232,
   "metadata": {},
   "outputs": [],
   "source": [
    "# PART a is bigram_probability_matrix"
   ]
  },
  {
   "cell_type": "code",
   "execution_count": null,
   "metadata": {},
   "outputs": [],
   "source": [
    "# PART b"
   ]
  },
  {
   "cell_type": "code",
   "execution_count": 310,
   "metadata": {},
   "outputs": [
    {
     "name": "stdout",
     "output_type": "stream",
     "text": [
      "0.8835403726708074\n"
     ]
    }
   ],
   "source": [
    "# PART c\n",
    "\n",
    "sentences_A = []\n",
    "label_A =[]\n",
    "\n",
    "with open(\"Preprocessed.csv\", encoding=\"utf8\") as file:\n",
    "    data = csv.reader(file)\n",
    "    data_list = list(data)\n",
    "\n",
    "    for tweet in data_list:\n",
    "        label_A.append(tweet[0])\n",
    "        sentences_A.append(tweet[2])\n",
    "        \n",
    "        \n",
    "sentences_Test = []\n",
    "label_Test =[]\n",
    "\n",
    "with open(\"Preprocessed_test.csv\", encoding=\"utf8\") as file:\n",
    "    data = csv.reader(file)\n",
    "    data_list = list(data)\n",
    "\n",
    "    for tweet in data_list:\n",
    "        label_Test.append(tweet[0])\n",
    "        sentences_Test.append(tweet[2])\n",
    "\n",
    "result_A = train_and_evaluate(sentences_A,label_A,sentences_Test,label_Test)\n",
    "\n",
    "print(result_A)\n",
    "\n",
    "\n"
   ]
  },
  {
   "cell_type": "code",
   "execution_count": 311,
   "metadata": {},
   "outputs": [
    {
     "name": "stdout",
     "output_type": "stream",
     "text": [
      "0.8742236024844721\n"
     ]
    }
   ],
   "source": [
    "sentences_B = []\n",
    "label_B = []\n",
    "sentences_B.extend(sentences_A)\n",
    "label_B.extend(label_A)\n",
    "\n",
    "for i in range(len(generated_samples)):\n",
    "    label_B.append(generated_samples[i][0])\n",
    "    sentences_B.append(generated_samples[i][1])\n",
    "    \n",
    "# print(sentences_B)\n",
    "    \n",
    "result_B = train_and_evaluate(sentences_B,label_B, sentences_Test, label_Test)\n",
    "\n",
    "print(result_B)"
   ]
  }
 ],
 "metadata": {
  "kernelspec": {
   "display_name": "Python 3.9.5 64-bit",
   "language": "python",
   "name": "python3"
  },
  "language_info": {
   "codemirror_mode": {
    "name": "ipython",
    "version": 3
   },
   "file_extension": ".py",
   "mimetype": "text/x-python",
   "name": "python",
   "nbconvert_exporter": "python",
   "pygments_lexer": "ipython3",
   "version": "3.9.5"
  },
  "orig_nbformat": 4,
  "vscode": {
   "interpreter": {
    "hash": "cbab7ad93b4c816b81ea2fcadccb708733fafe3d4de9be705110c0acce2d8094"
   }
  }
 },
 "nbformat": 4,
 "nbformat_minor": 2
}
